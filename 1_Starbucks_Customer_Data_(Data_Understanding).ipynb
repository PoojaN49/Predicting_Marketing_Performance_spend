{
  "nbformat": 4,
  "nbformat_minor": 0,
  "metadata": {
    "kernelspec": {
      "display_name": "Python 3",
      "language": "python",
      "name": "python3"
    },
    "language_info": {
      "codemirror_mode": {
        "name": "ipython",
        "version": 3
      },
      "file_extension": ".py",
      "mimetype": "text/x-python",
      "name": "python",
      "nbconvert_exporter": "python",
      "pygments_lexer": "ipython3",
      "version": "3.7.5"
    },
    "toc": {
      "base_numbering": 1,
      "nav_menu": {},
      "number_sections": false,
      "sideBar": true,
      "skip_h1_title": false,
      "title_cell": "Table of Contents",
      "title_sidebar": "Contents",
      "toc_cell": false,
      "toc_position": {},
      "toc_section_display": true,
      "toc_window_display": true
    },
    "varInspector": {
      "cols": {
        "lenName": 16,
        "lenType": 16,
        "lenVar": 40
      },
      "kernels_config": {
        "python": {
          "delete_cmd_postfix": "",
          "delete_cmd_prefix": "del ",
          "library": "var_list.py",
          "varRefreshCmd": "print(var_dic_list())"
        },
        "r": {
          "delete_cmd_postfix": ") ",
          "delete_cmd_prefix": "rm(",
          "library": "var_list.r",
          "varRefreshCmd": "cat(var_dic_list()) "
        }
      },
      "types_to_exclude": [
        "module",
        "function",
        "builtin_function_or_method",
        "instance",
        "_Feature"
      ],
      "window_display": false
    },
    "colab": {
      "name": "1. Starbucks Customer Data (Data Understanding).ipynb",
      "provenance": [],
      "toc_visible": true
    }
  },
  "cells": [
    {
      "cell_type": "markdown",
      "metadata": {
        "id": "3S0CwCDqhW2h"
      },
      "source": [
        "# Starbucks Customer Data (Data Understanding)"
      ]
    },
    {
      "cell_type": "markdown",
      "metadata": {
        "id": "VdJ-EcP1hW2r"
      },
      "source": [
        "This notebook has been created to gain an initial data understanding of the datasets provided by Starbucks on their customer behaviour in the context of their incentivised marketing campagins. It will specifically address what data points they have provided, any missing data or how they could be used in terms of predicting future marketing efforts.\n",
        "\n",
        "The files looked at in this notebook are:\n",
        "- portfolio.json: containing offer ids and meta data about each offer (duration, type, etc.)\n",
        "- profile.json: demographic data for each customer\n",
        "- transcript.json: records for transactions, offers received, offers viewed, and offers completed"
      ]
    },
    {
      "cell_type": "markdown",
      "metadata": {
        "id": "RP627KichW2s"
      },
      "source": [
        "### Imports"
      ]
    },
    {
      "cell_type": "code",
      "metadata": {
        "id": "JHzZcCfjhW2s"
      },
      "source": [
        "import pandas as pd\n",
        "import numpy as np\n",
        "import json\n",
        "\n",
        "# plotting functions\n",
        "import matplotlib.pyplot as plt\n",
        "import seaborn as sns\n",
        "from datetime import date\n",
        "import matplotlib.style as style"
      ],
      "execution_count": 1,
      "outputs": []
    },
    {
      "cell_type": "markdown",
      "metadata": {
        "id": "iDmkDA1AhW2t"
      },
      "source": [
        "### Functions"
      ]
    },
    {
      "cell_type": "code",
      "metadata": {
        "id": "KL1PPv6phW2u"
      },
      "source": [
        "def plot_histogram(data, column, ax, binsize=50, y_label='', x_label='', color='blue'):\n",
        "    \"\"\"\n",
        "    Function to plot standard histograms (Can be used for individual or side by side plots)\n",
        "    \"\"\"\n",
        "    # Plots the Graph with title & axis\n",
        "    sns.distplot(data[column], kde=False, color=color, bins=binsize, ax=ax)\n",
        "    \n",
        "    # Sets up the title based the column    \n",
        "    ax.set_title(f\"Spread of {column}\", fontsize=25)\n",
        "    \n",
        "    # Sets the y and x labels\n",
        "    ax.set_ylabel(y_label, fontsize=24)\n",
        "    ax.set_xlabel(x_label, fontsize=24)\n",
        "    \n",
        "    for tick in ax.xaxis.get_major_ticks():\n",
        "        tick.label.set_fontsize(20)\n",
        "        \n",
        "    for tick in ax.yaxis.get_major_ticks():\n",
        "        tick.label.set_fontsize(20) \n",
        "    \n",
        "    # Removes spines and changes layout to tight\n",
        "    ax.spines['top'].set_visible(False)\n",
        "    ax.spines['right'].set_visible(False)\n",
        "    \n",
        "def plot_line(data, ax, color, alpha=.7, ls='-', lw=5, label=None):\n",
        "    \"\"\"\n",
        "    plots the standard line graph\n",
        "    \"\"\"\n",
        "    ax.plot(data, color=color,\n",
        "            alpha=alpha, ls=ls,\n",
        "            linewidth=lw, label=label)"
      ],
      "execution_count": 2,
      "outputs": []
    },
    {
      "cell_type": "markdown",
      "metadata": {
        "id": "-VGs6iRKhW2u"
      },
      "source": [
        "### Global Variables"
      ]
    },
    {
      "cell_type": "markdown",
      "metadata": {
        "id": "Q-StcY29hW2v"
      },
      "source": [
        "The first thing I will do is load in each of the data files and look at which variables they each contain to gain some understanding of each of the datasets:"
      ]
    },
    {
      "cell_type": "code",
      "metadata": {
        "colab": {
          "base_uri": "https://localhost:8080/",
          "height": 197
        },
        "id": "QHPQYFZqhW2v",
        "outputId": "e3f3b6bc-fc1e-4c63-c5f3-0a5851a7adcb"
      },
      "source": [
        "# read in each of the data files & look at the variables involved\n",
        "portfolio_df = pd.read_json('/content/portfolio.json', lines=True)\n",
        "portfolio_df.head()"
      ],
      "execution_count": 2,
      "outputs": [
        {
          "output_type": "execute_result",
          "data": {
            "text/html": [
              "<div>\n",
              "<style scoped>\n",
              "    .dataframe tbody tr th:only-of-type {\n",
              "        vertical-align: middle;\n",
              "    }\n",
              "\n",
              "    .dataframe tbody tr th {\n",
              "        vertical-align: top;\n",
              "    }\n",
              "\n",
              "    .dataframe thead th {\n",
              "        text-align: right;\n",
              "    }\n",
              "</style>\n",
              "<table border=\"1\" class=\"dataframe\">\n",
              "  <thead>\n",
              "    <tr style=\"text-align: right;\">\n",
              "      <th></th>\n",
              "      <th>reward</th>\n",
              "      <th>channels</th>\n",
              "      <th>difficulty</th>\n",
              "      <th>duration</th>\n",
              "      <th>offer_type</th>\n",
              "      <th>id</th>\n",
              "    </tr>\n",
              "  </thead>\n",
              "  <tbody>\n",
              "    <tr>\n",
              "      <th>0</th>\n",
              "      <td>10</td>\n",
              "      <td>[email, mobile, social]</td>\n",
              "      <td>10</td>\n",
              "      <td>7</td>\n",
              "      <td>bogo</td>\n",
              "      <td>ae264e3637204a6fb9bb56bc8210ddfd</td>\n",
              "    </tr>\n",
              "    <tr>\n",
              "      <th>1</th>\n",
              "      <td>10</td>\n",
              "      <td>[web, email, mobile, social]</td>\n",
              "      <td>10</td>\n",
              "      <td>5</td>\n",
              "      <td>bogo</td>\n",
              "      <td>4d5c57ea9a6940dd891ad53e9dbe8da0</td>\n",
              "    </tr>\n",
              "    <tr>\n",
              "      <th>2</th>\n",
              "      <td>0</td>\n",
              "      <td>[web, email, mobile]</td>\n",
              "      <td>0</td>\n",
              "      <td>4</td>\n",
              "      <td>informational</td>\n",
              "      <td>3f207df678b143eea3cee63160fa8bed</td>\n",
              "    </tr>\n",
              "    <tr>\n",
              "      <th>3</th>\n",
              "      <td>5</td>\n",
              "      <td>[web, email, mobile]</td>\n",
              "      <td>5</td>\n",
              "      <td>7</td>\n",
              "      <td>bogo</td>\n",
              "      <td>9b98b8c7a33c4b65b9aebfe6a799e6d9</td>\n",
              "    </tr>\n",
              "    <tr>\n",
              "      <th>4</th>\n",
              "      <td>5</td>\n",
              "      <td>[web, email]</td>\n",
              "      <td>20</td>\n",
              "      <td>10</td>\n",
              "      <td>discount</td>\n",
              "      <td>0b1e1539f2cc45b7b9fa7c272da2e1d7</td>\n",
              "    </tr>\n",
              "  </tbody>\n",
              "</table>\n",
              "</div>"
            ],
            "text/plain": [
              "   reward  ...                                id\n",
              "0      10  ...  ae264e3637204a6fb9bb56bc8210ddfd\n",
              "1      10  ...  4d5c57ea9a6940dd891ad53e9dbe8da0\n",
              "2       0  ...  3f207df678b143eea3cee63160fa8bed\n",
              "3       5  ...  9b98b8c7a33c4b65b9aebfe6a799e6d9\n",
              "4       5  ...  0b1e1539f2cc45b7b9fa7c272da2e1d7\n",
              "\n",
              "[5 rows x 6 columns]"
            ]
          },
          "metadata": {
            "tags": []
          },
          "execution_count": 2
        }
      ]
    },
    {
      "cell_type": "code",
      "metadata": {
        "colab": {
          "base_uri": "https://localhost:8080/",
          "height": 197
        },
        "id": "oLeLGXXbhW2x",
        "outputId": "3715cb48-5a57-488b-fcc4-a7e86885f665"
      },
      "source": [
        "profile_df = pd.read_json('/content/profile.json', lines=True)\n",
        "profile_df.head()"
      ],
      "execution_count": 3,
      "outputs": [
        {
          "output_type": "execute_result",
          "data": {
            "text/html": [
              "<div>\n",
              "<style scoped>\n",
              "    .dataframe tbody tr th:only-of-type {\n",
              "        vertical-align: middle;\n",
              "    }\n",
              "\n",
              "    .dataframe tbody tr th {\n",
              "        vertical-align: top;\n",
              "    }\n",
              "\n",
              "    .dataframe thead th {\n",
              "        text-align: right;\n",
              "    }\n",
              "</style>\n",
              "<table border=\"1\" class=\"dataframe\">\n",
              "  <thead>\n",
              "    <tr style=\"text-align: right;\">\n",
              "      <th></th>\n",
              "      <th>gender</th>\n",
              "      <th>age</th>\n",
              "      <th>id</th>\n",
              "      <th>became_member_on</th>\n",
              "      <th>income</th>\n",
              "    </tr>\n",
              "  </thead>\n",
              "  <tbody>\n",
              "    <tr>\n",
              "      <th>0</th>\n",
              "      <td>None</td>\n",
              "      <td>118</td>\n",
              "      <td>68be06ca386d4c31939f3a4f0e3dd783</td>\n",
              "      <td>20170212</td>\n",
              "      <td>NaN</td>\n",
              "    </tr>\n",
              "    <tr>\n",
              "      <th>1</th>\n",
              "      <td>F</td>\n",
              "      <td>55</td>\n",
              "      <td>0610b486422d4921ae7d2bf64640c50b</td>\n",
              "      <td>20170715</td>\n",
              "      <td>112000.0</td>\n",
              "    </tr>\n",
              "    <tr>\n",
              "      <th>2</th>\n",
              "      <td>None</td>\n",
              "      <td>118</td>\n",
              "      <td>38fe809add3b4fcf9315a9694bb96ff5</td>\n",
              "      <td>20180712</td>\n",
              "      <td>NaN</td>\n",
              "    </tr>\n",
              "    <tr>\n",
              "      <th>3</th>\n",
              "      <td>F</td>\n",
              "      <td>75</td>\n",
              "      <td>78afa995795e4d85b5d9ceeca43f5fef</td>\n",
              "      <td>20170509</td>\n",
              "      <td>100000.0</td>\n",
              "    </tr>\n",
              "    <tr>\n",
              "      <th>4</th>\n",
              "      <td>None</td>\n",
              "      <td>118</td>\n",
              "      <td>a03223e636434f42ac4c3df47e8bac43</td>\n",
              "      <td>20170804</td>\n",
              "      <td>NaN</td>\n",
              "    </tr>\n",
              "  </tbody>\n",
              "</table>\n",
              "</div>"
            ],
            "text/plain": [
              "  gender  age                                id  became_member_on    income\n",
              "0   None  118  68be06ca386d4c31939f3a4f0e3dd783          20170212       NaN\n",
              "1      F   55  0610b486422d4921ae7d2bf64640c50b          20170715  112000.0\n",
              "2   None  118  38fe809add3b4fcf9315a9694bb96ff5          20180712       NaN\n",
              "3      F   75  78afa995795e4d85b5d9ceeca43f5fef          20170509  100000.0\n",
              "4   None  118  a03223e636434f42ac4c3df47e8bac43          20170804       NaN"
            ]
          },
          "metadata": {
            "tags": []
          },
          "execution_count": 3
        }
      ]
    },
    {
      "cell_type": "code",
      "metadata": {
        "colab": {
          "base_uri": "https://localhost:8080/",
          "height": 197
        },
        "id": "Nc4FdhmohW2x",
        "outputId": "b02f5202-2321-432e-dbd7-878af55aaf1f"
      },
      "source": [
        "transcript_df = pd.read_json('/content/transcript.json', lines=True)\n",
        "transcript_df.head()"
      ],
      "execution_count": 11,
      "outputs": [
        {
          "output_type": "execute_result",
          "data": {
            "text/html": [
              "<div>\n",
              "<style scoped>\n",
              "    .dataframe tbody tr th:only-of-type {\n",
              "        vertical-align: middle;\n",
              "    }\n",
              "\n",
              "    .dataframe tbody tr th {\n",
              "        vertical-align: top;\n",
              "    }\n",
              "\n",
              "    .dataframe thead th {\n",
              "        text-align: right;\n",
              "    }\n",
              "</style>\n",
              "<table border=\"1\" class=\"dataframe\">\n",
              "  <thead>\n",
              "    <tr style=\"text-align: right;\">\n",
              "      <th></th>\n",
              "      <th>person</th>\n",
              "      <th>event</th>\n",
              "      <th>value</th>\n",
              "      <th>time</th>\n",
              "    </tr>\n",
              "  </thead>\n",
              "  <tbody>\n",
              "    <tr>\n",
              "      <th>0</th>\n",
              "      <td>78afa995795e4d85b5d9ceeca43f5fef</td>\n",
              "      <td>offer received</td>\n",
              "      <td>{'offer id': '9b98b8c7a33c4b65b9aebfe6a799e6d9'}</td>\n",
              "      <td>0</td>\n",
              "    </tr>\n",
              "    <tr>\n",
              "      <th>1</th>\n",
              "      <td>a03223e636434f42ac4c3df47e8bac43</td>\n",
              "      <td>offer received</td>\n",
              "      <td>{'offer id': '0b1e1539f2cc45b7b9fa7c272da2e1d7'}</td>\n",
              "      <td>0</td>\n",
              "    </tr>\n",
              "    <tr>\n",
              "      <th>2</th>\n",
              "      <td>e2127556f4f64592b11af22de27a7932</td>\n",
              "      <td>offer received</td>\n",
              "      <td>{'offer id': '2906b810c7d4411798c6938adc9daaa5'}</td>\n",
              "      <td>0</td>\n",
              "    </tr>\n",
              "    <tr>\n",
              "      <th>3</th>\n",
              "      <td>8ec6ce2a7e7949b1bf142def7d0e0586</td>\n",
              "      <td>offer received</td>\n",
              "      <td>{'offer id': 'fafdcd668e3743c1bb461111dcafc2a4'}</td>\n",
              "      <td>0</td>\n",
              "    </tr>\n",
              "    <tr>\n",
              "      <th>4</th>\n",
              "      <td>68617ca6246f4fbc85e91a2a49552598</td>\n",
              "      <td>offer received</td>\n",
              "      <td>{'offer id': '4d5c57ea9a6940dd891ad53e9dbe8da0'}</td>\n",
              "      <td>0</td>\n",
              "    </tr>\n",
              "  </tbody>\n",
              "</table>\n",
              "</div>"
            ],
            "text/plain": [
              "                             person  ... time\n",
              "0  78afa995795e4d85b5d9ceeca43f5fef  ...    0\n",
              "1  a03223e636434f42ac4c3df47e8bac43  ...    0\n",
              "2  e2127556f4f64592b11af22de27a7932  ...    0\n",
              "3  8ec6ce2a7e7949b1bf142def7d0e0586  ...    0\n",
              "4  68617ca6246f4fbc85e91a2a49552598  ...    0\n",
              "\n",
              "[5 rows x 4 columns]"
            ]
          },
          "metadata": {
            "tags": []
          },
          "execution_count": 11
        }
      ]
    },
    {
      "cell_type": "markdown",
      "metadata": {
        "id": "deFKiRUVhW2y"
      },
      "source": [
        "### Initial Analysis"
      ]
    },
    {
      "cell_type": "markdown",
      "metadata": {
        "id": "qRjbHnn7hW2y"
      },
      "source": [
        "Next I will perform some initial analysis this will just be very basic to check missing data, values in each column etc and will provide the basis for the processing in the next step of the process. It will also allow me to start planning how I will progress with the project in terms of processing and modeling in the next few notebooks."
      ]
    },
    {
      "cell_type": "markdown",
      "metadata": {
        "id": "hsVuZJN4hW2z"
      },
      "source": [
        "#### Portfolio data"
      ]
    },
    {
      "cell_type": "markdown",
      "metadata": {
        "id": "8jk12IZOhW2z"
      },
      "source": [
        "First I will get a very basic overview of all of the variables of the portfolio dataset. This dataset contains information on all of the offers ran by Starbucks in the observation period."
      ]
    },
    {
      "cell_type": "code",
      "metadata": {
        "colab": {
          "base_uri": "https://localhost:8080/"
        },
        "id": "oK6Gwu3VhW20",
        "outputId": "4feffced-6f2a-4996-a0f6-8a9b6cc9ee7d"
      },
      "source": [
        "# First I'll look at the shape portfolio data\n",
        "portfolio_df.shape"
      ],
      "execution_count": 12,
      "outputs": [
        {
          "output_type": "execute_result",
          "data": {
            "text/plain": [
              "(10, 6)"
            ]
          },
          "metadata": {
            "tags": []
          },
          "execution_count": 12
        }
      ]
    },
    {
      "cell_type": "code",
      "metadata": {
        "colab": {
          "base_uri": "https://localhost:8080/"
        },
        "id": "6RKaZj4ahW20",
        "outputId": "73f384e0-acf0-4411-d5a4-2a5a0772fe86"
      },
      "source": [
        "# look into the types of offers available\n",
        "portfolio_df['offer_type'].unique()"
      ],
      "execution_count": 13,
      "outputs": [
        {
          "output_type": "execute_result",
          "data": {
            "text/plain": [
              "array(['bogo', 'informational', 'discount'], dtype=object)"
            ]
          },
          "metadata": {
            "tags": []
          },
          "execution_count": 13
        }
      ]
    },
    {
      "cell_type": "code",
      "metadata": {
        "colab": {
          "base_uri": "https://localhost:8080/",
          "height": 287
        },
        "id": "43dA69jHhW21",
        "outputId": "cf12ac17-9a0b-4277-f893-a9e23c31bc7c"
      },
      "source": [
        "# look into the spread of the numerical data difficulty, duration & reward\n",
        "portfolio_df.describe()"
      ],
      "execution_count": 14,
      "outputs": [
        {
          "output_type": "execute_result",
          "data": {
            "text/html": [
              "<div>\n",
              "<style scoped>\n",
              "    .dataframe tbody tr th:only-of-type {\n",
              "        vertical-align: middle;\n",
              "    }\n",
              "\n",
              "    .dataframe tbody tr th {\n",
              "        vertical-align: top;\n",
              "    }\n",
              "\n",
              "    .dataframe thead th {\n",
              "        text-align: right;\n",
              "    }\n",
              "</style>\n",
              "<table border=\"1\" class=\"dataframe\">\n",
              "  <thead>\n",
              "    <tr style=\"text-align: right;\">\n",
              "      <th></th>\n",
              "      <th>reward</th>\n",
              "      <th>difficulty</th>\n",
              "      <th>duration</th>\n",
              "    </tr>\n",
              "  </thead>\n",
              "  <tbody>\n",
              "    <tr>\n",
              "      <th>count</th>\n",
              "      <td>10.000000</td>\n",
              "      <td>10.000000</td>\n",
              "      <td>10.000000</td>\n",
              "    </tr>\n",
              "    <tr>\n",
              "      <th>mean</th>\n",
              "      <td>4.200000</td>\n",
              "      <td>7.700000</td>\n",
              "      <td>6.500000</td>\n",
              "    </tr>\n",
              "    <tr>\n",
              "      <th>std</th>\n",
              "      <td>3.583915</td>\n",
              "      <td>5.831905</td>\n",
              "      <td>2.321398</td>\n",
              "    </tr>\n",
              "    <tr>\n",
              "      <th>min</th>\n",
              "      <td>0.000000</td>\n",
              "      <td>0.000000</td>\n",
              "      <td>3.000000</td>\n",
              "    </tr>\n",
              "    <tr>\n",
              "      <th>25%</th>\n",
              "      <td>2.000000</td>\n",
              "      <td>5.000000</td>\n",
              "      <td>5.000000</td>\n",
              "    </tr>\n",
              "    <tr>\n",
              "      <th>50%</th>\n",
              "      <td>4.000000</td>\n",
              "      <td>8.500000</td>\n",
              "      <td>7.000000</td>\n",
              "    </tr>\n",
              "    <tr>\n",
              "      <th>75%</th>\n",
              "      <td>5.000000</td>\n",
              "      <td>10.000000</td>\n",
              "      <td>7.000000</td>\n",
              "    </tr>\n",
              "    <tr>\n",
              "      <th>max</th>\n",
              "      <td>10.000000</td>\n",
              "      <td>20.000000</td>\n",
              "      <td>10.000000</td>\n",
              "    </tr>\n",
              "  </tbody>\n",
              "</table>\n",
              "</div>"
            ],
            "text/plain": [
              "          reward  difficulty   duration\n",
              "count  10.000000   10.000000  10.000000\n",
              "mean    4.200000    7.700000   6.500000\n",
              "std     3.583915    5.831905   2.321398\n",
              "min     0.000000    0.000000   3.000000\n",
              "25%     2.000000    5.000000   5.000000\n",
              "50%     4.000000    8.500000   7.000000\n",
              "75%     5.000000   10.000000   7.000000\n",
              "max    10.000000   20.000000  10.000000"
            ]
          },
          "metadata": {
            "tags": []
          },
          "execution_count": 14
        }
      ]
    },
    {
      "cell_type": "code",
      "metadata": {
        "colab": {
          "base_uri": "https://localhost:8080/"
        },
        "id": "VIcCv3wchW22",
        "outputId": "c8864c46-334d-459d-dfb3-bde84383c57c"
      },
      "source": [
        "# find all the differenr types of channels that the campagins were displayed on\n",
        "portfolio_df.channels"
      ],
      "execution_count": 15,
      "outputs": [
        {
          "output_type": "execute_result",
          "data": {
            "text/plain": [
              "0         [email, mobile, social]\n",
              "1    [web, email, mobile, social]\n",
              "2            [web, email, mobile]\n",
              "3            [web, email, mobile]\n",
              "4                    [web, email]\n",
              "5    [web, email, mobile, social]\n",
              "6    [web, email, mobile, social]\n",
              "7         [email, mobile, social]\n",
              "8    [web, email, mobile, social]\n",
              "9            [web, email, mobile]\n",
              "Name: channels, dtype: object"
            ]
          },
          "metadata": {
            "tags": []
          },
          "execution_count": 15
        }
      ]
    },
    {
      "cell_type": "markdown",
      "metadata": {
        "id": "Sh98iIiZhW22"
      },
      "source": [
        "From the above analysis I can see that 10 different campaigns where ran with three different types of offer deployed these were bogo (Buy One Get One Free), informational and discounts. They were distributed across the web, email, mobile and social media. They ranged in length between 10 and 3 days. Had an average difficulty (minimum spend) of 8.5 dollars and an average reward of 4 dollars."
      ]
    },
    {
      "cell_type": "markdown",
      "metadata": {
        "id": "aCo8mHUyhW23"
      },
      "source": [
        "#### Profile data"
      ]
    },
    {
      "cell_type": "markdown",
      "metadata": {
        "id": "suaB4R8fhW23"
      },
      "source": [
        "Next I will look at the user profile data to see what information we have on individual consumers."
      ]
    },
    {
      "cell_type": "code",
      "metadata": {
        "colab": {
          "base_uri": "https://localhost:8080/",
          "height": 197
        },
        "id": "_XSwUAnxhW23",
        "outputId": "4d7a1ae7-fdb4-47e0-906d-70cd8b501e8a"
      },
      "source": [
        "profile_df.head()"
      ],
      "execution_count": 16,
      "outputs": [
        {
          "output_type": "execute_result",
          "data": {
            "text/html": [
              "<div>\n",
              "<style scoped>\n",
              "    .dataframe tbody tr th:only-of-type {\n",
              "        vertical-align: middle;\n",
              "    }\n",
              "\n",
              "    .dataframe tbody tr th {\n",
              "        vertical-align: top;\n",
              "    }\n",
              "\n",
              "    .dataframe thead th {\n",
              "        text-align: right;\n",
              "    }\n",
              "</style>\n",
              "<table border=\"1\" class=\"dataframe\">\n",
              "  <thead>\n",
              "    <tr style=\"text-align: right;\">\n",
              "      <th></th>\n",
              "      <th>gender</th>\n",
              "      <th>age</th>\n",
              "      <th>id</th>\n",
              "      <th>became_member_on</th>\n",
              "      <th>income</th>\n",
              "    </tr>\n",
              "  </thead>\n",
              "  <tbody>\n",
              "    <tr>\n",
              "      <th>0</th>\n",
              "      <td>None</td>\n",
              "      <td>118</td>\n",
              "      <td>68be06ca386d4c31939f3a4f0e3dd783</td>\n",
              "      <td>20170212</td>\n",
              "      <td>NaN</td>\n",
              "    </tr>\n",
              "    <tr>\n",
              "      <th>1</th>\n",
              "      <td>F</td>\n",
              "      <td>55</td>\n",
              "      <td>0610b486422d4921ae7d2bf64640c50b</td>\n",
              "      <td>20170715</td>\n",
              "      <td>112000.0</td>\n",
              "    </tr>\n",
              "    <tr>\n",
              "      <th>2</th>\n",
              "      <td>None</td>\n",
              "      <td>118</td>\n",
              "      <td>38fe809add3b4fcf9315a9694bb96ff5</td>\n",
              "      <td>20180712</td>\n",
              "      <td>NaN</td>\n",
              "    </tr>\n",
              "    <tr>\n",
              "      <th>3</th>\n",
              "      <td>F</td>\n",
              "      <td>75</td>\n",
              "      <td>78afa995795e4d85b5d9ceeca43f5fef</td>\n",
              "      <td>20170509</td>\n",
              "      <td>100000.0</td>\n",
              "    </tr>\n",
              "    <tr>\n",
              "      <th>4</th>\n",
              "      <td>None</td>\n",
              "      <td>118</td>\n",
              "      <td>a03223e636434f42ac4c3df47e8bac43</td>\n",
              "      <td>20170804</td>\n",
              "      <td>NaN</td>\n",
              "    </tr>\n",
              "  </tbody>\n",
              "</table>\n",
              "</div>"
            ],
            "text/plain": [
              "  gender  age                                id  became_member_on    income\n",
              "0   None  118  68be06ca386d4c31939f3a4f0e3dd783          20170212       NaN\n",
              "1      F   55  0610b486422d4921ae7d2bf64640c50b          20170715  112000.0\n",
              "2   None  118  38fe809add3b4fcf9315a9694bb96ff5          20180712       NaN\n",
              "3      F   75  78afa995795e4d85b5d9ceeca43f5fef          20170509  100000.0\n",
              "4   None  118  a03223e636434f42ac4c3df47e8bac43          20170804       NaN"
            ]
          },
          "metadata": {
            "tags": []
          },
          "execution_count": 16
        }
      ]
    },
    {
      "cell_type": "code",
      "metadata": {
        "colab": {
          "base_uri": "https://localhost:8080/"
        },
        "id": "nMBxk9jehW24",
        "outputId": "e320e33a-9120-4d6b-e192-f17f8f510dae"
      },
      "source": [
        "# see how many consumers are in the profile dataset\n",
        "profile_df.shape"
      ],
      "execution_count": 17,
      "outputs": [
        {
          "output_type": "execute_result",
          "data": {
            "text/plain": [
              "(17000, 5)"
            ]
          },
          "metadata": {
            "tags": []
          },
          "execution_count": 17
        }
      ]
    },
    {
      "cell_type": "code",
      "metadata": {
        "colab": {
          "base_uri": "https://localhost:8080/",
          "height": 287
        },
        "id": "7Lw8zSHPhW24",
        "outputId": "836763c9-5155-4c3c-a743-ae791d29f093"
      },
      "source": [
        "# check the spread of ages and income in the data\n",
        "profile_df.describe()"
      ],
      "execution_count": 18,
      "outputs": [
        {
          "output_type": "execute_result",
          "data": {
            "text/html": [
              "<div>\n",
              "<style scoped>\n",
              "    .dataframe tbody tr th:only-of-type {\n",
              "        vertical-align: middle;\n",
              "    }\n",
              "\n",
              "    .dataframe tbody tr th {\n",
              "        vertical-align: top;\n",
              "    }\n",
              "\n",
              "    .dataframe thead th {\n",
              "        text-align: right;\n",
              "    }\n",
              "</style>\n",
              "<table border=\"1\" class=\"dataframe\">\n",
              "  <thead>\n",
              "    <tr style=\"text-align: right;\">\n",
              "      <th></th>\n",
              "      <th>age</th>\n",
              "      <th>became_member_on</th>\n",
              "      <th>income</th>\n",
              "    </tr>\n",
              "  </thead>\n",
              "  <tbody>\n",
              "    <tr>\n",
              "      <th>count</th>\n",
              "      <td>17000.000000</td>\n",
              "      <td>1.700000e+04</td>\n",
              "      <td>14825.000000</td>\n",
              "    </tr>\n",
              "    <tr>\n",
              "      <th>mean</th>\n",
              "      <td>62.531412</td>\n",
              "      <td>2.016703e+07</td>\n",
              "      <td>65404.991568</td>\n",
              "    </tr>\n",
              "    <tr>\n",
              "      <th>std</th>\n",
              "      <td>26.738580</td>\n",
              "      <td>1.167750e+04</td>\n",
              "      <td>21598.299410</td>\n",
              "    </tr>\n",
              "    <tr>\n",
              "      <th>min</th>\n",
              "      <td>18.000000</td>\n",
              "      <td>2.013073e+07</td>\n",
              "      <td>30000.000000</td>\n",
              "    </tr>\n",
              "    <tr>\n",
              "      <th>25%</th>\n",
              "      <td>45.000000</td>\n",
              "      <td>2.016053e+07</td>\n",
              "      <td>49000.000000</td>\n",
              "    </tr>\n",
              "    <tr>\n",
              "      <th>50%</th>\n",
              "      <td>58.000000</td>\n",
              "      <td>2.017080e+07</td>\n",
              "      <td>64000.000000</td>\n",
              "    </tr>\n",
              "    <tr>\n",
              "      <th>75%</th>\n",
              "      <td>73.000000</td>\n",
              "      <td>2.017123e+07</td>\n",
              "      <td>80000.000000</td>\n",
              "    </tr>\n",
              "    <tr>\n",
              "      <th>max</th>\n",
              "      <td>118.000000</td>\n",
              "      <td>2.018073e+07</td>\n",
              "      <td>120000.000000</td>\n",
              "    </tr>\n",
              "  </tbody>\n",
              "</table>\n",
              "</div>"
            ],
            "text/plain": [
              "                age  became_member_on         income\n",
              "count  17000.000000      1.700000e+04   14825.000000\n",
              "mean      62.531412      2.016703e+07   65404.991568\n",
              "std       26.738580      1.167750e+04   21598.299410\n",
              "min       18.000000      2.013073e+07   30000.000000\n",
              "25%       45.000000      2.016053e+07   49000.000000\n",
              "50%       58.000000      2.017080e+07   64000.000000\n",
              "75%       73.000000      2.017123e+07   80000.000000\n",
              "max      118.000000      2.018073e+07  120000.000000"
            ]
          },
          "metadata": {
            "tags": []
          },
          "execution_count": 18
        }
      ]
    },
    {
      "cell_type": "code",
      "metadata": {
        "colab": {
          "base_uri": "https://localhost:8080/",
          "height": 167
        },
        "id": "MGpxNUAchW24",
        "outputId": "2e565bd1-cf74-418f-e207-6b231a126d86"
      },
      "source": [
        "# check spread of data in the gender column\n",
        "profile_df.groupby('gender').count()"
      ],
      "execution_count": 19,
      "outputs": [
        {
          "output_type": "execute_result",
          "data": {
            "text/html": [
              "<div>\n",
              "<style scoped>\n",
              "    .dataframe tbody tr th:only-of-type {\n",
              "        vertical-align: middle;\n",
              "    }\n",
              "\n",
              "    .dataframe tbody tr th {\n",
              "        vertical-align: top;\n",
              "    }\n",
              "\n",
              "    .dataframe thead th {\n",
              "        text-align: right;\n",
              "    }\n",
              "</style>\n",
              "<table border=\"1\" class=\"dataframe\">\n",
              "  <thead>\n",
              "    <tr style=\"text-align: right;\">\n",
              "      <th></th>\n",
              "      <th>age</th>\n",
              "      <th>id</th>\n",
              "      <th>became_member_on</th>\n",
              "      <th>income</th>\n",
              "    </tr>\n",
              "    <tr>\n",
              "      <th>gender</th>\n",
              "      <th></th>\n",
              "      <th></th>\n",
              "      <th></th>\n",
              "      <th></th>\n",
              "    </tr>\n",
              "  </thead>\n",
              "  <tbody>\n",
              "    <tr>\n",
              "      <th>F</th>\n",
              "      <td>6129</td>\n",
              "      <td>6129</td>\n",
              "      <td>6129</td>\n",
              "      <td>6129</td>\n",
              "    </tr>\n",
              "    <tr>\n",
              "      <th>M</th>\n",
              "      <td>8484</td>\n",
              "      <td>8484</td>\n",
              "      <td>8484</td>\n",
              "      <td>8484</td>\n",
              "    </tr>\n",
              "    <tr>\n",
              "      <th>O</th>\n",
              "      <td>212</td>\n",
              "      <td>212</td>\n",
              "      <td>212</td>\n",
              "      <td>212</td>\n",
              "    </tr>\n",
              "  </tbody>\n",
              "</table>\n",
              "</div>"
            ],
            "text/plain": [
              "         age    id  became_member_on  income\n",
              "gender                                      \n",
              "F       6129  6129              6129    6129\n",
              "M       8484  8484              8484    8484\n",
              "O        212   212               212     212"
            ]
          },
          "metadata": {
            "tags": []
          },
          "execution_count": 19
        }
      ]
    },
    {
      "cell_type": "code",
      "metadata": {
        "colab": {
          "base_uri": "https://localhost:8080/"
        },
        "id": "5t32VC7HhW25",
        "outputId": "4da05fec-39f9-46cb-cd80-d05d23ed8772"
      },
      "source": [
        "# check the spread of dates from when users became a member\n",
        "pd.to_datetime(profile_df['became_member_on']).describe()"
      ],
      "execution_count": 20,
      "outputs": [
        {
          "output_type": "stream",
          "text": [
            "/usr/local/lib/python3.7/dist-packages/ipykernel_launcher.py:2: FutureWarning: Treating datetime data as categorical rather than numeric in `.describe` is deprecated and will be removed in a future version of pandas. Specify `datetime_is_numeric=True` to silence this warning and adopt the future behavior now.\n",
            "  \n"
          ],
          "name": "stderr"
        },
        {
          "output_type": "execute_result",
          "data": {
            "text/plain": [
              "count                             17000\n",
              "unique                             1716\n",
              "top       1970-01-01 00:00:00.020171207\n",
              "freq                                 43\n",
              "first     1970-01-01 00:00:00.020130729\n",
              "last      1970-01-01 00:00:00.020180726\n",
              "Name: became_member_on, dtype: object"
            ]
          },
          "metadata": {
            "tags": []
          },
          "execution_count": 20
        }
      ]
    },
    {
      "cell_type": "code",
      "metadata": {
        "colab": {
          "base_uri": "https://localhost:8080/"
        },
        "id": "dG-oB_5WhW25",
        "outputId": "0102c151-d732-4b87-b531-fb0958ee7a0f"
      },
      "source": [
        "# see how many missing values are in the income column\n",
        "profile_df['income'].isna().sum()"
      ],
      "execution_count": 21,
      "outputs": [
        {
          "output_type": "execute_result",
          "data": {
            "text/plain": [
              "2175"
            ]
          },
          "metadata": {
            "tags": []
          },
          "execution_count": 21
        }
      ]
    },
    {
      "cell_type": "code",
      "metadata": {
        "colab": {
          "base_uri": "https://localhost:8080/",
          "height": 1000
        },
        "id": "oxe7_Y2ShW25",
        "outputId": "74967852-0f26-4925-ed03-1b16307a0617"
      },
      "source": [
        "columns = ['age','income']\n",
        "colors = ['red','green']\n",
        "\n",
        "# plot histograms to visually show the spread of data\n",
        "for column in columns:\n",
        "    # Setup the graphs and add the main title\n",
        "    fig, ax1 = plt.subplots(figsize=(24,12))\n",
        "\n",
        "    # Plots the Seattle Graph with title & axis\n",
        "    plot_histogram(profile_df, column, ax1, binsize=50, \n",
        "                   x_label=f'{column}', color=colors[columns.index(column)])\n",
        "\n",
        "    plt.tight_layout()"
      ],
      "execution_count": 22,
      "outputs": [
        {
          "output_type": "stream",
          "text": [
            "/usr/local/lib/python3.7/dist-packages/seaborn/distributions.py:2557: FutureWarning: `distplot` is a deprecated function and will be removed in a future version. Please adapt your code to use either `displot` (a figure-level function with similar flexibility) or `histplot` (an axes-level function for histograms).\n",
            "  warnings.warn(msg, FutureWarning)\n"
          ],
          "name": "stderr"
        },
        {
          "output_type": "display_data",
          "data": {
            "image/png": "[encoded data removed]",
            "text/plain": [
              "<Figure size 1728x864 with 1 Axes>"
            ]
          },
          "metadata": {
            "tags": [],
            "needs_background": "light"
          }
        },
        {
          "output_type": "display_data",
          "data": {
            "image/png": "[encoded data removed]",
            "text/plain": [
              "<Figure size 1728x864 with 1 Axes>"
            ]
          },
          "metadata": {
            "tags": [],
            "needs_background": "light"
          }
        }
      ]
    },
    {
      "cell_type": "markdown",
      "metadata": {
        "id": "GT0SVeOxhW26"
      },
      "source": [
        "From the profile data I can see that their are 17,000 consumers in the dataset with ~6100 female, ~8400 male and ~200 unknown. The users joined between 29th July 2013 and 26th July 2018. We have data on around 15,000 of the users that have an income between 30,000-120,000 with the average of 64,000. The ages range from 18 to greater than 73 however it seems that no age has been specified as for some and instead has been set at 118, this could be users who are more aware of sharing personal data. It is would be worth removing this when running the analysis and either zeroing them so that they are treated as there own dataset or adding a dummy value for the average age."
      ]
    },
    {
      "cell_type": "markdown",
      "metadata": {
        "id": "G9NLu_0uhW27"
      },
      "source": [
        "#### Transcript data"
      ]
    },
    {
      "cell_type": "markdown",
      "metadata": {
        "id": "IRK8hFf2hW27"
      },
      "source": [
        "Finally, I will look at the transcript data that contains information on all of the transactions throughout the 30 day period."
      ]
    },
    {
      "cell_type": "code",
      "metadata": {
        "colab": {
          "base_uri": "https://localhost:8080/",
          "height": 197
        },
        "id": "xwC_vqmihW28",
        "outputId": "87744f13-fdd5-43fd-9bd2-d9d51718b6d4"
      },
      "source": [
        "transcript_df.head()"
      ],
      "execution_count": 23,
      "outputs": [
        {
          "output_type": "execute_result",
          "data": {
            "text/html": [
              "<div>\n",
              "<style scoped>\n",
              "    .dataframe tbody tr th:only-of-type {\n",
              "        vertical-align: middle;\n",
              "    }\n",
              "\n",
              "    .dataframe tbody tr th {\n",
              "        vertical-align: top;\n",
              "    }\n",
              "\n",
              "    .dataframe thead th {\n",
              "        text-align: right;\n",
              "    }\n",
              "</style>\n",
              "<table border=\"1\" class=\"dataframe\">\n",
              "  <thead>\n",
              "    <tr style=\"text-align: right;\">\n",
              "      <th></th>\n",
              "      <th>person</th>\n",
              "      <th>event</th>\n",
              "      <th>value</th>\n",
              "      <th>time</th>\n",
              "    </tr>\n",
              "  </thead>\n",
              "  <tbody>\n",
              "    <tr>\n",
              "      <th>0</th>\n",
              "      <td>78afa995795e4d85b5d9ceeca43f5fef</td>\n",
              "      <td>offer received</td>\n",
              "      <td>{'offer id': '9b98b8c7a33c4b65b9aebfe6a799e6d9'}</td>\n",
              "      <td>0</td>\n",
              "    </tr>\n",
              "    <tr>\n",
              "      <th>1</th>\n",
              "      <td>a03223e636434f42ac4c3df47e8bac43</td>\n",
              "      <td>offer received</td>\n",
              "      <td>{'offer id': '0b1e1539f2cc45b7b9fa7c272da2e1d7'}</td>\n",
              "      <td>0</td>\n",
              "    </tr>\n",
              "    <tr>\n",
              "      <th>2</th>\n",
              "      <td>e2127556f4f64592b11af22de27a7932</td>\n",
              "      <td>offer received</td>\n",
              "      <td>{'offer id': '2906b810c7d4411798c6938adc9daaa5'}</td>\n",
              "      <td>0</td>\n",
              "    </tr>\n",
              "    <tr>\n",
              "      <th>3</th>\n",
              "      <td>8ec6ce2a7e7949b1bf142def7d0e0586</td>\n",
              "      <td>offer received</td>\n",
              "      <td>{'offer id': 'fafdcd668e3743c1bb461111dcafc2a4'}</td>\n",
              "      <td>0</td>\n",
              "    </tr>\n",
              "    <tr>\n",
              "      <th>4</th>\n",
              "      <td>68617ca6246f4fbc85e91a2a49552598</td>\n",
              "      <td>offer received</td>\n",
              "      <td>{'offer id': '4d5c57ea9a6940dd891ad53e9dbe8da0'}</td>\n",
              "      <td>0</td>\n",
              "    </tr>\n",
              "  </tbody>\n",
              "</table>\n",
              "</div>"
            ],
            "text/plain": [
              "                             person  ... time\n",
              "0  78afa995795e4d85b5d9ceeca43f5fef  ...    0\n",
              "1  a03223e636434f42ac4c3df47e8bac43  ...    0\n",
              "2  e2127556f4f64592b11af22de27a7932  ...    0\n",
              "3  8ec6ce2a7e7949b1bf142def7d0e0586  ...    0\n",
              "4  68617ca6246f4fbc85e91a2a49552598  ...    0\n",
              "\n",
              "[5 rows x 4 columns]"
            ]
          },
          "metadata": {
            "tags": []
          },
          "execution_count": 23
        }
      ]
    },
    {
      "cell_type": "code",
      "metadata": {
        "colab": {
          "base_uri": "https://localhost:8080/"
        },
        "id": "DfoyiuXRhW28",
        "outputId": "5f5bce89-e620-407a-e698-247a300cf8b5"
      },
      "source": [
        "# how many interactions have been encountered\n",
        "transcript_df.shape"
      ],
      "execution_count": 24,
      "outputs": [
        {
          "output_type": "execute_result",
          "data": {
            "text/plain": [
              "(306534, 4)"
            ]
          },
          "metadata": {
            "tags": []
          },
          "execution_count": 24
        }
      ]
    },
    {
      "cell_type": "code",
      "metadata": {
        "colab": {
          "base_uri": "https://localhost:8080/",
          "height": 287
        },
        "id": "nczRR8ZBhW29",
        "outputId": "b904468e-ade6-4a4a-bf8b-92b2c4ae8c25"
      },
      "source": [
        "# look into how the time column is formatted/the spread of the data\n",
        "transcript_df.describe()"
      ],
      "execution_count": 25,
      "outputs": [
        {
          "output_type": "execute_result",
          "data": {
            "text/html": [
              "<div>\n",
              "<style scoped>\n",
              "    .dataframe tbody tr th:only-of-type {\n",
              "        vertical-align: middle;\n",
              "    }\n",
              "\n",
              "    .dataframe tbody tr th {\n",
              "        vertical-align: top;\n",
              "    }\n",
              "\n",
              "    .dataframe thead th {\n",
              "        text-align: right;\n",
              "    }\n",
              "</style>\n",
              "<table border=\"1\" class=\"dataframe\">\n",
              "  <thead>\n",
              "    <tr style=\"text-align: right;\">\n",
              "      <th></th>\n",
              "      <th>time</th>\n",
              "    </tr>\n",
              "  </thead>\n",
              "  <tbody>\n",
              "    <tr>\n",
              "      <th>count</th>\n",
              "      <td>306534.000000</td>\n",
              "    </tr>\n",
              "    <tr>\n",
              "      <th>mean</th>\n",
              "      <td>366.382940</td>\n",
              "    </tr>\n",
              "    <tr>\n",
              "      <th>std</th>\n",
              "      <td>200.326314</td>\n",
              "    </tr>\n",
              "    <tr>\n",
              "      <th>min</th>\n",
              "      <td>0.000000</td>\n",
              "    </tr>\n",
              "    <tr>\n",
              "      <th>25%</th>\n",
              "      <td>186.000000</td>\n",
              "    </tr>\n",
              "    <tr>\n",
              "      <th>50%</th>\n",
              "      <td>408.000000</td>\n",
              "    </tr>\n",
              "    <tr>\n",
              "      <th>75%</th>\n",
              "      <td>528.000000</td>\n",
              "    </tr>\n",
              "    <tr>\n",
              "      <th>max</th>\n",
              "      <td>714.000000</td>\n",
              "    </tr>\n",
              "  </tbody>\n",
              "</table>\n",
              "</div>"
            ],
            "text/plain": [
              "                time\n",
              "count  306534.000000\n",
              "mean      366.382940\n",
              "std       200.326314\n",
              "min         0.000000\n",
              "25%       186.000000\n",
              "50%       408.000000\n",
              "75%       528.000000\n",
              "max       714.000000"
            ]
          },
          "metadata": {
            "tags": []
          },
          "execution_count": 25
        }
      ]
    },
    {
      "cell_type": "code",
      "metadata": {
        "colab": {
          "base_uri": "https://localhost:8080/",
          "height": 197
        },
        "id": "kLvlkjRdhW29",
        "outputId": "e3f61d78-9ba0-4b66-dd23-621efd9bb823"
      },
      "source": [
        "# see how many people received the offers and how many didn't\n",
        "transcript_df.groupby('event').count()"
      ],
      "execution_count": 26,
      "outputs": [
        {
          "output_type": "execute_result",
          "data": {
            "text/html": [
              "<div>\n",
              "<style scoped>\n",
              "    .dataframe tbody tr th:only-of-type {\n",
              "        vertical-align: middle;\n",
              "    }\n",
              "\n",
              "    .dataframe tbody tr th {\n",
              "        vertical-align: top;\n",
              "    }\n",
              "\n",
              "    .dataframe thead th {\n",
              "        text-align: right;\n",
              "    }\n",
              "</style>\n",
              "<table border=\"1\" class=\"dataframe\">\n",
              "  <thead>\n",
              "    <tr style=\"text-align: right;\">\n",
              "      <th></th>\n",
              "      <th>person</th>\n",
              "      <th>value</th>\n",
              "      <th>time</th>\n",
              "    </tr>\n",
              "    <tr>\n",
              "      <th>event</th>\n",
              "      <th></th>\n",
              "      <th></th>\n",
              "      <th></th>\n",
              "    </tr>\n",
              "  </thead>\n",
              "  <tbody>\n",
              "    <tr>\n",
              "      <th>offer completed</th>\n",
              "      <td>33579</td>\n",
              "      <td>33579</td>\n",
              "      <td>33579</td>\n",
              "    </tr>\n",
              "    <tr>\n",
              "      <th>offer received</th>\n",
              "      <td>76277</td>\n",
              "      <td>76277</td>\n",
              "      <td>76277</td>\n",
              "    </tr>\n",
              "    <tr>\n",
              "      <th>offer viewed</th>\n",
              "      <td>57725</td>\n",
              "      <td>57725</td>\n",
              "      <td>57725</td>\n",
              "    </tr>\n",
              "    <tr>\n",
              "      <th>transaction</th>\n",
              "      <td>138953</td>\n",
              "      <td>138953</td>\n",
              "      <td>138953</td>\n",
              "    </tr>\n",
              "  </tbody>\n",
              "</table>\n",
              "</div>"
            ],
            "text/plain": [
              "                 person   value    time\n",
              "event                                  \n",
              "offer completed   33579   33579   33579\n",
              "offer received    76277   76277   76277\n",
              "offer viewed      57725   57725   57725\n",
              "transaction      138953  138953  138953"
            ]
          },
          "metadata": {
            "tags": []
          },
          "execution_count": 26
        }
      ]
    },
    {
      "cell_type": "code",
      "metadata": {
        "colab": {
          "base_uri": "https://localhost:8080/"
        },
        "id": "cPwCEIrPhW29",
        "outputId": "a38de229-7e2e-4b44-837e-4e975f0b5ca4"
      },
      "source": [
        "# number of unique users in the dataset\n",
        "len(transcript_df['person'].unique())"
      ],
      "execution_count": 27,
      "outputs": [
        {
          "output_type": "execute_result",
          "data": {
            "text/plain": [
              "17000"
            ]
          },
          "metadata": {
            "tags": []
          },
          "execution_count": 27
        }
      ]
    },
    {
      "cell_type": "code",
      "metadata": {
        "colab": {
          "base_uri": "https://localhost:8080/"
        },
        "id": "zVHstU2EhW2-",
        "outputId": "8382f6bd-d531-44a5-8a7d-6580383b6cc3"
      },
      "source": [
        "# see if there is any missing data in the dataset\n",
        "transcript_df.isna().sum()"
      ],
      "execution_count": 28,
      "outputs": [
        {
          "output_type": "execute_result",
          "data": {
            "text/plain": [
              "person    0\n",
              "event     0\n",
              "value     0\n",
              "time      0\n",
              "dtype: int64"
            ]
          },
          "metadata": {
            "tags": []
          },
          "execution_count": 28
        }
      ]
    },
    {
      "cell_type": "code",
      "metadata": {
        "colab": {
          "base_uri": "https://localhost:8080/",
          "height": 167
        },
        "id": "AfKDZ3TlhW2-",
        "outputId": "769606a2-3b7e-4917-acf4-3d35abb76894"
      },
      "source": [
        "# look at the values column\n",
        "transcript_df_copy = transcript_df\n",
        "transcript_df_copy['type'] = [list(x.keys())[0] for x in transcript_df['value']]\n",
        "transcript_df_copy['campaign'] = [list(x.values())[0] for x in transcript_df['value']]\n",
        "transcript_df_copy.groupby('type').count()"
      ],
      "execution_count": 29,
      "outputs": [
        {
          "output_type": "execute_result",
          "data": {
            "text/html": [
              "<div>\n",
              "<style scoped>\n",
              "    .dataframe tbody tr th:only-of-type {\n",
              "        vertical-align: middle;\n",
              "    }\n",
              "\n",
              "    .dataframe tbody tr th {\n",
              "        vertical-align: top;\n",
              "    }\n",
              "\n",
              "    .dataframe thead th {\n",
              "        text-align: right;\n",
              "    }\n",
              "</style>\n",
              "<table border=\"1\" class=\"dataframe\">\n",
              "  <thead>\n",
              "    <tr style=\"text-align: right;\">\n",
              "      <th></th>\n",
              "      <th>person</th>\n",
              "      <th>event</th>\n",
              "      <th>value</th>\n",
              "      <th>time</th>\n",
              "      <th>campaign</th>\n",
              "    </tr>\n",
              "    <tr>\n",
              "      <th>type</th>\n",
              "      <th></th>\n",
              "      <th></th>\n",
              "      <th></th>\n",
              "      <th></th>\n",
              "      <th></th>\n",
              "    </tr>\n",
              "  </thead>\n",
              "  <tbody>\n",
              "    <tr>\n",
              "      <th>amount</th>\n",
              "      <td>138953</td>\n",
              "      <td>138953</td>\n",
              "      <td>138953</td>\n",
              "      <td>138953</td>\n",
              "      <td>138953</td>\n",
              "    </tr>\n",
              "    <tr>\n",
              "      <th>offer id</th>\n",
              "      <td>134002</td>\n",
              "      <td>134002</td>\n",
              "      <td>134002</td>\n",
              "      <td>134002</td>\n",
              "      <td>134002</td>\n",
              "    </tr>\n",
              "    <tr>\n",
              "      <th>offer_id</th>\n",
              "      <td>33579</td>\n",
              "      <td>33579</td>\n",
              "      <td>33579</td>\n",
              "      <td>33579</td>\n",
              "      <td>33579</td>\n",
              "    </tr>\n",
              "  </tbody>\n",
              "</table>\n",
              "</div>"
            ],
            "text/plain": [
              "          person   event   value    time  campaign\n",
              "type                                              \n",
              "amount    138953  138953  138953  138953    138953\n",
              "offer id  134002  134002  134002  134002    134002\n",
              "offer_id   33579   33579   33579   33579     33579"
            ]
          },
          "metadata": {
            "tags": []
          },
          "execution_count": 29
        }
      ]
    },
    {
      "cell_type": "markdown",
      "metadata": {
        "id": "GgMuejqshW2-"
      },
      "source": [
        "Frome the transcript data we can see that 306,534 events have been logged by starbucks and the majority of these (138,953) are transactions, with ~76000 offers received, ~58,00 viewed and 33,579 completed. The time column ranges from zero to 714 minutes and shows the time throughout the observation period with a max of around 30 days as expected. The dataset contains all of the 17,000 users that are in the profile data. The value column contains either the campagin ids or the amount spent on the transactions processed."
      ]
    },
    {
      "cell_type": "markdown",
      "metadata": {
        "id": "Vi1jk5uXhW2_"
      },
      "source": [
        "### Next steps"
      ]
    },
    {
      "cell_type": "markdown",
      "metadata": {
        "id": "8JuwVaUnhW2_"
      },
      "source": [
        "Now that we have a basic level of understanding of the core input datasets it's possible to plan out the processing and modeling stages of the project in a little bit more depth. As the aim of the project is to perform demographics clustering and regression modeling to predict spend I Will need to create two core input datasets for the modeling. \n",
        "\n",
        "The first dataset will be for the demographic grouping and will need to be made from the profile data to get background information on the user but also spend so we can see what the user normally is spending. To gain this spend I will also have to flag the difference between transfers that have been influenced by offers and ones that haven't so I can see normal user behaviour. This should probably be the first step.\n",
        "\n",
        "For the second dataset we have a number of options of trying to predict spend by day or by transaction. Trying to predict spend by transaction presents a more difficult problem of actually predicting the probability of a transaction actually happening. With this dataset that would be difficult as I only have 30 days of data and all of the marketing overlaps meaning a baseline of if a user will make a transaction or not would have to be made on very limited data. Therefore in this modeling I will assume that I know the transactions that will be influenced and create my modeling off the back of that. The input dataset therefore should have the spend and if any transactions where influenced on that given day. From this we can predict the increase in spend and how successful the marketing models are.\n",
        "\n",
        "In the next section I will work on creating the above input datasets."
      ]
    },
    {
      "cell_type": "code",
      "metadata": {
        "id": "BP0GqXvDhW3A"
      },
      "source": [
        ""
      ],
      "execution_count": null,
      "outputs": []
    },
    {
      "cell_type": "code",
      "metadata": {
        "id": "V5ybJqD-jeTp"
      },
      "source": [
        "def clean_transcript_data(data):\n",
        "    \"\"\"\n",
        "    this process cleans the values column and formats the transcript data\n",
        "    \"\"\"\n",
        "    # creates a column for the type of interaction   \n",
        "    data['interaction_value'] = [list(x.keys())[0] for x in data['value']]\n",
        "    \n",
        "    # creates a column related to the value amount or id    \n",
        "    data['id'] = [list(x.values())[0] for x in data['value']]\n",
        "    \n",
        "    # drops the value column\n",
        "    data = data.drop(columns=['value'])\n",
        "    \n",
        "    # cleans the interaction type column so offer id is consistent\n",
        "    data['interaction_value'] = [x.replace('offer id','offer_id') for x in data['interaction_value']]\n",
        "    \n",
        "    # split out interaction_type\n",
        "    temp_df = pd.get_dummies(data['interaction_value'])\n",
        "\n",
        "    # combine the dataframes\n",
        "    data = pd.concat([temp_df, data], axis=1, sort=True)\n",
        "    \n",
        "    # split out event\n",
        "    temp_df = pd.get_dummies(data['event'])\n",
        "\n",
        "    # combine the dataframes\n",
        "    data = pd.concat([temp_df, data], axis=1, sort=True)\n",
        "\n",
        "    # drop the original columns\n",
        "    data = data.drop(columns=['interaction_value','event'])    \n",
        "    \n",
        "    return data # returns the clean transcript data\n",
        "\n",
        "\n",
        "def clean_profile_data(data):\n",
        "    \"\"\"\n",
        "    this process clean age, income and became_member_on columns in the profile data\n",
        "    \"\"\"\n",
        "    # rename the column 'id' to person\n",
        "    data.columns = ['age','member joined','gender','person' ,'income']\n",
        "    \n",
        "    # replace 118 in the age column with a zero indicating no age \n",
        "    # keeping these users as a seperate group is important as they may show different user behaviour\n",
        "    data['age'] = data['age'].replace(118,0)\n",
        "\n",
        "    # update the became_member_on column to a datetime format\n",
        "    data['member joined'] = pd.to_datetime(data['member joined'], format='%Y%m%d')\n",
        "    \n",
        "    # replace the NaN's in the income\n",
        "    data['income'] = data['income'].fillna(0)\n",
        "    \n",
        "    # replace M, F, O and None types to get the 4 groups of customers\n",
        "    data['gender'] = data['gender'].replace('M','male')\n",
        "    data['gender'] = data['gender'].replace('F','female')\n",
        "    data['gender'] = data['gender'].replace('O','other')\n",
        "    data['gender'] = data['gender'].fillna('unknown gender')\n",
        "\n",
        "    # split the column into seperate columns\n",
        "    temp_df = pd.get_dummies(data['gender'])\n",
        "\n",
        "    # combine the dataframes\n",
        "    data = pd.concat([temp_df, data], axis=1, sort=True)\n",
        "\n",
        "    # drop the original column\n",
        "    data = data.drop(columns=['gender'])\n",
        "\n",
        "    return data\n",
        "\n",
        "def clean_portfolio_data(data):\n",
        "    \"\"\"\n",
        "    this process has been created to clean columns in the profile data\n",
        "    \"\"\"\n",
        "    # splits the channels column into seperate columns\n",
        "    # creates temporary dataframes and lists  \n",
        "    temp_df = pd.DataFrame(columns=['web', 'email', 'mobile','social'])\n",
        "    temp_list = []\n",
        "\n",
        "    # loop through the rows and attach the values to a dic   \n",
        "    for index, row in data.iterrows():\n",
        "        for value in row['channels']:\n",
        "             temp_list.append({'index': index, 'value':value})\n",
        "\n",
        "    # change the list into dataframe\n",
        "    temp_df = temp_df.append(temp_list, ignore_index=False, sort=True)\n",
        "    temp_df = temp_df.groupby('index')['value'].value_counts()\n",
        "    temp_df = temp_df.unstack(level=-1).fillna(0)\n",
        "    \n",
        "    # combine the dataframes\n",
        "    data = pd.concat([temp_df, data], axis=1, sort=True)\n",
        "    \n",
        "    # split the column into seperate columns\n",
        "    temp_df = pd.get_dummies(data['offer_type'])\n",
        "\n",
        "    # combine the dataframes\n",
        "    data = pd.concat([temp_df, data], axis=1, sort=True)\n",
        "\n",
        "    # drop the original columns\n",
        "    data = data.drop(columns=['offer_type','channels'])\n",
        "    \n",
        "    return data"
      ],
      "execution_count": 42,
      "outputs": []
    },
    {
      "cell_type": "code",
      "metadata": {
        "id": "zS2X7T2pm9jR"
      },
      "source": [
        ""
      ],
      "execution_count": null,
      "outputs": []
    },
    {
      "cell_type": "code",
      "metadata": {
        "id": "Y8WRBsEUm98e"
      },
      "source": [
        "def clean_transcript_data(data):\n",
        "    \"\"\"\n",
        "    this process cleans the values column and formats the transcript data\n",
        "    \"\"\"\n",
        "    # creates a column for the type of interaction   \n",
        "    data['interaction_value'] = [list(x.keys())[0] for x in data['value']]\n",
        "    \n",
        "    # creates a column related to the value amount or id    \n",
        "    data['id'] = [list(x.values())[0] for x in data['value']]\n",
        "    \n",
        "    # drops the value column\n",
        "    data = data.drop(columns=['value'])\n",
        "    \n",
        "    # cleans the interaction type column so offer id is consistent\n",
        "    data['interaction_value'] = [x.replace('offer id','offer_id') for x in data['interaction_value']]\n",
        "    \n",
        "    # split out interaction_type\n",
        "    temp_df = pd.get_dummies(data['interaction_value'])\n",
        "\n",
        "    # combine the dataframes\n",
        "    data = pd.concat([temp_df, data], axis=1, sort=True)\n",
        "    \n",
        "    # split out event\n",
        "    temp_df = pd.get_dummies(data['event'])\n",
        "\n",
        "    # combine the dataframes\n",
        "    data = pd.concat([temp_df, data], axis=1, sort=True)\n",
        "\n",
        "    # drop the original columns\n",
        "    data = data.drop(columns=['interaction_value','event'])    \n",
        "    \n",
        "    return data # returns the clean transcript data\n",
        "\n",
        "\n",
        "def clean_profile_data(data):\n",
        "    \"\"\"\n",
        "    this process clean age, income and became_member_on columns in the profile data\n",
        "    \"\"\"\n",
        "    # rename the column 'id' to person\n",
        "    data.columns = ['age','member joined','gender','person' ,'income']\n",
        "    \n",
        "    # replace 118 in the age column with a zero indicating no age \n",
        "    # keeping these users as a seperate group is important as they may show different user behaviour\n",
        "    data['age'] = data['age'].replace(118,0)\n",
        "\n",
        "    # update the became_member_on column to a datetime format\n",
        "    data['member joined'] = pd.to_datetime(data['member joined'], format='%Y%m%d')\n",
        "    \n",
        "    # replace the NaN's in the income\n",
        "    data['income'] = data['income'].fillna(0)\n",
        "    \n",
        "    # replace M, F, O and None types to get the 4 groups of customers\n",
        "    data['gender'] = data['gender'].replace('M','male')\n",
        "    data['gender'] = data['gender'].replace('F','female')\n",
        "    data['gender'] = data['gender'].replace('O','other')\n",
        "    data['gender'] = data['gender'].fillna('unknown gender')\n",
        "\n",
        "    # split the column into seperate columns\n",
        "    temp_df = pd.get_dummies(data['gender'])\n",
        "\n",
        "    # combine the dataframes\n",
        "    data = pd.concat([temp_df, data], axis=1, sort=True)\n",
        "\n",
        "    # drop the original column\n",
        "    data = data.drop(columns=['gender'])\n",
        "\n",
        "    return data\n",
        "\n",
        "def clean_portfolio_data(data):\n",
        "    \"\"\"\n",
        "    this process has been created to clean columns in the profile data\n",
        "    \"\"\"\n",
        "    # splits the channels column into seperate columns\n",
        "    # creates temporary dataframes and lists  \n",
        "    temp_df = pd.DataFrame(columns=['web', 'email', 'mobile','social'])\n",
        "    temp_list = []\n",
        "\n",
        "    # loop through the rows and attach the values to a dic   \n",
        "    for index, row in data.iterrows():\n",
        "        for value in row['channels']:\n",
        "             temp_list.append({'index': index, 'value':value})\n",
        "\n",
        "    # change the list into dataframe\n",
        "    temp_df = temp_df.append(temp_list, ignore_index=False, sort=True)\n",
        "    temp_df = temp_df.groupby('index')['value'].value_counts()\n",
        "    temp_df = temp_df.unstack(level=-1).fillna(0)\n",
        "    \n",
        "    # combine the dataframes\n",
        "    data = pd.concat([temp_df, data], axis=1, sort=True)\n",
        "    \n",
        "    # split the column into seperate columns\n",
        "    temp_df = pd.get_dummies(data['offer_type'])\n",
        "\n",
        "    # combine the dataframes\n",
        "    data = pd.concat([temp_df, data], axis=1, sort=True)\n",
        "\n",
        "    # drop the original columns\n",
        "    data = data.drop(columns=['offer_type','channels'])\n",
        "    \n",
        "    return data"
      ],
      "execution_count": 63,
      "outputs": []
    },
    {
      "cell_type": "code",
      "metadata": {
        "id": "iqAvudNojeTt"
      },
      "source": [
        "# read in the different datasources\n",
        "portfolio_df = pd.read_json('/content/portfolio.json', lines=True)\n",
        "profile_df = pd.read_json('/content/profile.json', lines=True)\n",
        "transcript_df = pd.read_json('/content/transcript.json', lines=True)"
      ],
      "execution_count": 64,
      "outputs": []
    },
    {
      "cell_type": "code",
      "metadata": {
        "id": "LpAs4oXanITV"
      },
      "source": [
        "def clean_profile_data1(data):\n",
        "    \"\"\"\n",
        "    this process clean age, income and became_member_on columns in the profile data\n",
        "    \"\"\"\n",
        "    # rename the column 'id' to person\n",
        "    data.columns = ['gender','age','person' ,'member joined','income']\n",
        "    \n",
        "    # replace 118 in the age column with a zero indicating no age \n",
        "    # keeping these users as a seperate group is important as they may show different user behaviour\n",
        "    data['age'] = data['age'].replace(118,0)\n",
        "\n",
        "    # update the became_member_on column to a datetime format\n",
        "    data['member joined'] = pd.to_datetime(data['member joined'], format='%Y%m%d')\n",
        "    \n",
        "    # replace the NaN's in the income\n",
        "    data['income'] = data['income'].fillna(0)\n",
        "    \n",
        "    # replace M, F, O and None types to get the 4 groups of customers\n",
        "    data['gender'] = data['gender'].replace('M','male')\n",
        "    data['gender'] = data['gender'].replace('F','female')\n",
        "    data['gender'] = data['gender'].replace('O','other')\n",
        "    data['gender'] = data['gender'].fillna('unknown gender')\n",
        "\n",
        "    # split the column into seperate columns\n",
        "    temp_df = pd.get_dummies(data['gender'])\n",
        "\n",
        "    # combine the dataframes\n",
        "    data = pd.concat([temp_df, data], axis=1, sort=True)\n",
        "\n",
        "    # drop the original column\n",
        "    data = data.drop(columns=['gender'])\n",
        "\n",
        "    return data"
      ],
      "execution_count": 4,
      "outputs": []
    },
    {
      "cell_type": "code",
      "metadata": {
        "colab": {
          "base_uri": "https://localhost:8080/",
          "height": 406
        },
        "id": "9Jvl1XFkreoD",
        "outputId": "d7a17509-7aca-453a-a3c0-3ce94ec6167d"
      },
      "source": [
        "profile_df"
      ],
      "execution_count": 80,
      "outputs": [
        {
          "output_type": "execute_result",
          "data": {
            "text/html": [
              "<div>\n",
              "<style scoped>\n",
              "    .dataframe tbody tr th:only-of-type {\n",
              "        vertical-align: middle;\n",
              "    }\n",
              "\n",
              "    .dataframe tbody tr th {\n",
              "        vertical-align: top;\n",
              "    }\n",
              "\n",
              "    .dataframe thead th {\n",
              "        text-align: right;\n",
              "    }\n",
              "</style>\n",
              "<table border=\"1\" class=\"dataframe\">\n",
              "  <thead>\n",
              "    <tr style=\"text-align: right;\">\n",
              "      <th></th>\n",
              "      <th>age</th>\n",
              "      <th>member joined</th>\n",
              "      <th>gender</th>\n",
              "      <th>person</th>\n",
              "      <th>income</th>\n",
              "    </tr>\n",
              "  </thead>\n",
              "  <tbody>\n",
              "    <tr>\n",
              "      <th>0</th>\n",
              "      <td>None</td>\n",
              "      <td>118</td>\n",
              "      <td>68be06ca386d4c31939f3a4f0e3dd783</td>\n",
              "      <td>20170212</td>\n",
              "      <td>NaN</td>\n",
              "    </tr>\n",
              "    <tr>\n",
              "      <th>1</th>\n",
              "      <td>F</td>\n",
              "      <td>55</td>\n",
              "      <td>0610b486422d4921ae7d2bf64640c50b</td>\n",
              "      <td>20170715</td>\n",
              "      <td>112000.0</td>\n",
              "    </tr>\n",
              "    <tr>\n",
              "      <th>2</th>\n",
              "      <td>None</td>\n",
              "      <td>118</td>\n",
              "      <td>38fe809add3b4fcf9315a9694bb96ff5</td>\n",
              "      <td>20180712</td>\n",
              "      <td>NaN</td>\n",
              "    </tr>\n",
              "    <tr>\n",
              "      <th>3</th>\n",
              "      <td>F</td>\n",
              "      <td>75</td>\n",
              "      <td>78afa995795e4d85b5d9ceeca43f5fef</td>\n",
              "      <td>20170509</td>\n",
              "      <td>100000.0</td>\n",
              "    </tr>\n",
              "    <tr>\n",
              "      <th>4</th>\n",
              "      <td>None</td>\n",
              "      <td>118</td>\n",
              "      <td>a03223e636434f42ac4c3df47e8bac43</td>\n",
              "      <td>20170804</td>\n",
              "      <td>NaN</td>\n",
              "    </tr>\n",
              "    <tr>\n",
              "      <th>...</th>\n",
              "      <td>...</td>\n",
              "      <td>...</td>\n",
              "      <td>...</td>\n",
              "      <td>...</td>\n",
              "      <td>...</td>\n",
              "    </tr>\n",
              "    <tr>\n",
              "      <th>16995</th>\n",
              "      <td>F</td>\n",
              "      <td>45</td>\n",
              "      <td>6d5f3a774f3d4714ab0c092238f3a1d7</td>\n",
              "      <td>20180604</td>\n",
              "      <td>54000.0</td>\n",
              "    </tr>\n",
              "    <tr>\n",
              "      <th>16996</th>\n",
              "      <td>M</td>\n",
              "      <td>61</td>\n",
              "      <td>2cb4f97358b841b9a9773a7aa05a9d77</td>\n",
              "      <td>20180713</td>\n",
              "      <td>72000.0</td>\n",
              "    </tr>\n",
              "    <tr>\n",
              "      <th>16997</th>\n",
              "      <td>M</td>\n",
              "      <td>49</td>\n",
              "      <td>01d26f638c274aa0b965d24cefe3183f</td>\n",
              "      <td>20170126</td>\n",
              "      <td>73000.0</td>\n",
              "    </tr>\n",
              "    <tr>\n",
              "      <th>16998</th>\n",
              "      <td>F</td>\n",
              "      <td>83</td>\n",
              "      <td>9dc1421481194dcd9400aec7c9ae6366</td>\n",
              "      <td>20160307</td>\n",
              "      <td>50000.0</td>\n",
              "    </tr>\n",
              "    <tr>\n",
              "      <th>16999</th>\n",
              "      <td>F</td>\n",
              "      <td>62</td>\n",
              "      <td>e4052622e5ba45a8b96b59aba68cf068</td>\n",
              "      <td>20170722</td>\n",
              "      <td>82000.0</td>\n",
              "    </tr>\n",
              "  </tbody>\n",
              "</table>\n",
              "<p>17000 rows × 5 columns</p>\n",
              "</div>"
            ],
            "text/plain": [
              "        age  member joined  ...    person    income\n",
              "0      None            118  ...  20170212       NaN\n",
              "1         F             55  ...  20170715  112000.0\n",
              "2      None            118  ...  20180712       NaN\n",
              "3         F             75  ...  20170509  100000.0\n",
              "4      None            118  ...  20170804       NaN\n",
              "...     ...            ...  ...       ...       ...\n",
              "16995     F             45  ...  20180604   54000.0\n",
              "16996     M             61  ...  20180713   72000.0\n",
              "16997     M             49  ...  20170126   73000.0\n",
              "16998     F             83  ...  20160307   50000.0\n",
              "16999     F             62  ...  20170722   82000.0\n",
              "\n",
              "[17000 rows x 5 columns]"
            ]
          },
          "metadata": {
            "tags": []
          },
          "execution_count": 80
        }
      ]
    },
    {
      "cell_type": "code",
      "metadata": {
        "id": "yMRyVtzJjeTv",
        "colab": {
          "base_uri": "https://localhost:8080/",
          "height": 347
        },
        "outputId": "383637d4-7a96-4b2b-ced0-36bd403b7169"
      },
      "source": [
        "# run the initial cleaning on each dataset\n",
        "clean_port_df = clean_portfolio_data(portfolio_df)\n",
        "clean_port_df"
      ],
      "execution_count": 71,
      "outputs": [
        {
          "output_type": "execute_result",
          "data": {
            "text/html": [
              "<div>\n",
              "<style scoped>\n",
              "    .dataframe tbody tr th:only-of-type {\n",
              "        vertical-align: middle;\n",
              "    }\n",
              "\n",
              "    .dataframe tbody tr th {\n",
              "        vertical-align: top;\n",
              "    }\n",
              "\n",
              "    .dataframe thead th {\n",
              "        text-align: right;\n",
              "    }\n",
              "</style>\n",
              "<table border=\"1\" class=\"dataframe\">\n",
              "  <thead>\n",
              "    <tr style=\"text-align: right;\">\n",
              "      <th></th>\n",
              "      <th>bogo</th>\n",
              "      <th>discount</th>\n",
              "      <th>informational</th>\n",
              "      <th>email</th>\n",
              "      <th>mobile</th>\n",
              "      <th>social</th>\n",
              "      <th>web</th>\n",
              "      <th>reward</th>\n",
              "      <th>difficulty</th>\n",
              "      <th>duration</th>\n",
              "      <th>id</th>\n",
              "    </tr>\n",
              "  </thead>\n",
              "  <tbody>\n",
              "    <tr>\n",
              "      <th>0.0</th>\n",
              "      <td>1</td>\n",
              "      <td>0</td>\n",
              "      <td>0</td>\n",
              "      <td>1.0</td>\n",
              "      <td>1.0</td>\n",
              "      <td>1.0</td>\n",
              "      <td>0.0</td>\n",
              "      <td>10</td>\n",
              "      <td>10</td>\n",
              "      <td>7</td>\n",
              "      <td>ae264e3637204a6fb9bb56bc8210ddfd</td>\n",
              "    </tr>\n",
              "    <tr>\n",
              "      <th>1.0</th>\n",
              "      <td>1</td>\n",
              "      <td>0</td>\n",
              "      <td>0</td>\n",
              "      <td>1.0</td>\n",
              "      <td>1.0</td>\n",
              "      <td>1.0</td>\n",
              "      <td>1.0</td>\n",
              "      <td>10</td>\n",
              "      <td>10</td>\n",
              "      <td>5</td>\n",
              "      <td>4d5c57ea9a6940dd891ad53e9dbe8da0</td>\n",
              "    </tr>\n",
              "    <tr>\n",
              "      <th>2.0</th>\n",
              "      <td>0</td>\n",
              "      <td>0</td>\n",
              "      <td>1</td>\n",
              "      <td>1.0</td>\n",
              "      <td>1.0</td>\n",
              "      <td>0.0</td>\n",
              "      <td>1.0</td>\n",
              "      <td>0</td>\n",
              "      <td>0</td>\n",
              "      <td>4</td>\n",
              "      <td>3f207df678b143eea3cee63160fa8bed</td>\n",
              "    </tr>\n",
              "    <tr>\n",
              "      <th>3.0</th>\n",
              "      <td>1</td>\n",
              "      <td>0</td>\n",
              "      <td>0</td>\n",
              "      <td>1.0</td>\n",
              "      <td>1.0</td>\n",
              "      <td>0.0</td>\n",
              "      <td>1.0</td>\n",
              "      <td>5</td>\n",
              "      <td>5</td>\n",
              "      <td>7</td>\n",
              "      <td>9b98b8c7a33c4b65b9aebfe6a799e6d9</td>\n",
              "    </tr>\n",
              "    <tr>\n",
              "      <th>4.0</th>\n",
              "      <td>0</td>\n",
              "      <td>1</td>\n",
              "      <td>0</td>\n",
              "      <td>1.0</td>\n",
              "      <td>0.0</td>\n",
              "      <td>0.0</td>\n",
              "      <td>1.0</td>\n",
              "      <td>5</td>\n",
              "      <td>20</td>\n",
              "      <td>10</td>\n",
              "      <td>0b1e1539f2cc45b7b9fa7c272da2e1d7</td>\n",
              "    </tr>\n",
              "    <tr>\n",
              "      <th>5.0</th>\n",
              "      <td>0</td>\n",
              "      <td>1</td>\n",
              "      <td>0</td>\n",
              "      <td>1.0</td>\n",
              "      <td>1.0</td>\n",
              "      <td>1.0</td>\n",
              "      <td>1.0</td>\n",
              "      <td>3</td>\n",
              "      <td>7</td>\n",
              "      <td>7</td>\n",
              "      <td>2298d6c36e964ae4a3e7e9706d1fb8c2</td>\n",
              "    </tr>\n",
              "    <tr>\n",
              "      <th>6.0</th>\n",
              "      <td>0</td>\n",
              "      <td>1</td>\n",
              "      <td>0</td>\n",
              "      <td>1.0</td>\n",
              "      <td>1.0</td>\n",
              "      <td>1.0</td>\n",
              "      <td>1.0</td>\n",
              "      <td>2</td>\n",
              "      <td>10</td>\n",
              "      <td>10</td>\n",
              "      <td>fafdcd668e3743c1bb461111dcafc2a4</td>\n",
              "    </tr>\n",
              "    <tr>\n",
              "      <th>7.0</th>\n",
              "      <td>0</td>\n",
              "      <td>0</td>\n",
              "      <td>1</td>\n",
              "      <td>1.0</td>\n",
              "      <td>1.0</td>\n",
              "      <td>1.0</td>\n",
              "      <td>0.0</td>\n",
              "      <td>0</td>\n",
              "      <td>0</td>\n",
              "      <td>3</td>\n",
              "      <td>5a8bc65990b245e5a138643cd4eb9837</td>\n",
              "    </tr>\n",
              "    <tr>\n",
              "      <th>8.0</th>\n",
              "      <td>1</td>\n",
              "      <td>0</td>\n",
              "      <td>0</td>\n",
              "      <td>1.0</td>\n",
              "      <td>1.0</td>\n",
              "      <td>1.0</td>\n",
              "      <td>1.0</td>\n",
              "      <td>5</td>\n",
              "      <td>5</td>\n",
              "      <td>5</td>\n",
              "      <td>f19421c1d4aa40978ebb69ca19b0e20d</td>\n",
              "    </tr>\n",
              "    <tr>\n",
              "      <th>9.0</th>\n",
              "      <td>0</td>\n",
              "      <td>1</td>\n",
              "      <td>0</td>\n",
              "      <td>1.0</td>\n",
              "      <td>1.0</td>\n",
              "      <td>0.0</td>\n",
              "      <td>1.0</td>\n",
              "      <td>2</td>\n",
              "      <td>10</td>\n",
              "      <td>7</td>\n",
              "      <td>2906b810c7d4411798c6938adc9daaa5</td>\n",
              "    </tr>\n",
              "  </tbody>\n",
              "</table>\n",
              "</div>"
            ],
            "text/plain": [
              "     bogo  discount  ...  duration                                id\n",
              "0.0     1         0  ...         7  ae264e3637204a6fb9bb56bc8210ddfd\n",
              "1.0     1         0  ...         5  4d5c57ea9a6940dd891ad53e9dbe8da0\n",
              "2.0     0         0  ...         4  3f207df678b143eea3cee63160fa8bed\n",
              "3.0     1         0  ...         7  9b98b8c7a33c4b65b9aebfe6a799e6d9\n",
              "4.0     0         1  ...        10  0b1e1539f2cc45b7b9fa7c272da2e1d7\n",
              "5.0     0         1  ...         7  2298d6c36e964ae4a3e7e9706d1fb8c2\n",
              "6.0     0         1  ...        10  fafdcd668e3743c1bb461111dcafc2a4\n",
              "7.0     0         0  ...         3  5a8bc65990b245e5a138643cd4eb9837\n",
              "8.0     1         0  ...         5  f19421c1d4aa40978ebb69ca19b0e20d\n",
              "9.0     0         1  ...         7  2906b810c7d4411798c6938adc9daaa5\n",
              "\n",
              "[10 rows x 11 columns]"
            ]
          },
          "metadata": {
            "tags": []
          },
          "execution_count": 71
        }
      ]
    },
    {
      "cell_type": "code",
      "metadata": {
        "colab": {
          "base_uri": "https://localhost:8080/",
          "height": 406
        },
        "id": "D9tMKhS6qpb1",
        "outputId": "49a5436e-d86b-4a5b-ae16-dcab14b45792"
      },
      "source": [
        "profile_df"
      ],
      "execution_count": 65,
      "outputs": [
        {
          "output_type": "execute_result",
          "data": {
            "text/html": [
              "<div>\n",
              "<style scoped>\n",
              "    .dataframe tbody tr th:only-of-type {\n",
              "        vertical-align: middle;\n",
              "    }\n",
              "\n",
              "    .dataframe tbody tr th {\n",
              "        vertical-align: top;\n",
              "    }\n",
              "\n",
              "    .dataframe thead th {\n",
              "        text-align: right;\n",
              "    }\n",
              "</style>\n",
              "<table border=\"1\" class=\"dataframe\">\n",
              "  <thead>\n",
              "    <tr style=\"text-align: right;\">\n",
              "      <th></th>\n",
              "      <th>gender</th>\n",
              "      <th>age</th>\n",
              "      <th>id</th>\n",
              "      <th>became_member_on</th>\n",
              "      <th>income</th>\n",
              "    </tr>\n",
              "  </thead>\n",
              "  <tbody>\n",
              "    <tr>\n",
              "      <th>0</th>\n",
              "      <td>None</td>\n",
              "      <td>118</td>\n",
              "      <td>68be06ca386d4c31939f3a4f0e3dd783</td>\n",
              "      <td>20170212</td>\n",
              "      <td>NaN</td>\n",
              "    </tr>\n",
              "    <tr>\n",
              "      <th>1</th>\n",
              "      <td>F</td>\n",
              "      <td>55</td>\n",
              "      <td>0610b486422d4921ae7d2bf64640c50b</td>\n",
              "      <td>20170715</td>\n",
              "      <td>112000.0</td>\n",
              "    </tr>\n",
              "    <tr>\n",
              "      <th>2</th>\n",
              "      <td>None</td>\n",
              "      <td>118</td>\n",
              "      <td>38fe809add3b4fcf9315a9694bb96ff5</td>\n",
              "      <td>20180712</td>\n",
              "      <td>NaN</td>\n",
              "    </tr>\n",
              "    <tr>\n",
              "      <th>3</th>\n",
              "      <td>F</td>\n",
              "      <td>75</td>\n",
              "      <td>78afa995795e4d85b5d9ceeca43f5fef</td>\n",
              "      <td>20170509</td>\n",
              "      <td>100000.0</td>\n",
              "    </tr>\n",
              "    <tr>\n",
              "      <th>4</th>\n",
              "      <td>None</td>\n",
              "      <td>118</td>\n",
              "      <td>a03223e636434f42ac4c3df47e8bac43</td>\n",
              "      <td>20170804</td>\n",
              "      <td>NaN</td>\n",
              "    </tr>\n",
              "    <tr>\n",
              "      <th>...</th>\n",
              "      <td>...</td>\n",
              "      <td>...</td>\n",
              "      <td>...</td>\n",
              "      <td>...</td>\n",
              "      <td>...</td>\n",
              "    </tr>\n",
              "    <tr>\n",
              "      <th>16995</th>\n",
              "      <td>F</td>\n",
              "      <td>45</td>\n",
              "      <td>6d5f3a774f3d4714ab0c092238f3a1d7</td>\n",
              "      <td>20180604</td>\n",
              "      <td>54000.0</td>\n",
              "    </tr>\n",
              "    <tr>\n",
              "      <th>16996</th>\n",
              "      <td>M</td>\n",
              "      <td>61</td>\n",
              "      <td>2cb4f97358b841b9a9773a7aa05a9d77</td>\n",
              "      <td>20180713</td>\n",
              "      <td>72000.0</td>\n",
              "    </tr>\n",
              "    <tr>\n",
              "      <th>16997</th>\n",
              "      <td>M</td>\n",
              "      <td>49</td>\n",
              "      <td>01d26f638c274aa0b965d24cefe3183f</td>\n",
              "      <td>20170126</td>\n",
              "      <td>73000.0</td>\n",
              "    </tr>\n",
              "    <tr>\n",
              "      <th>16998</th>\n",
              "      <td>F</td>\n",
              "      <td>83</td>\n",
              "      <td>9dc1421481194dcd9400aec7c9ae6366</td>\n",
              "      <td>20160307</td>\n",
              "      <td>50000.0</td>\n",
              "    </tr>\n",
              "    <tr>\n",
              "      <th>16999</th>\n",
              "      <td>F</td>\n",
              "      <td>62</td>\n",
              "      <td>e4052622e5ba45a8b96b59aba68cf068</td>\n",
              "      <td>20170722</td>\n",
              "      <td>82000.0</td>\n",
              "    </tr>\n",
              "  </tbody>\n",
              "</table>\n",
              "<p>17000 rows × 5 columns</p>\n",
              "</div>"
            ],
            "text/plain": [
              "      gender  age                                id  became_member_on    income\n",
              "0       None  118  68be06ca386d4c31939f3a4f0e3dd783          20170212       NaN\n",
              "1          F   55  0610b486422d4921ae7d2bf64640c50b          20170715  112000.0\n",
              "2       None  118  38fe809add3b4fcf9315a9694bb96ff5          20180712       NaN\n",
              "3          F   75  78afa995795e4d85b5d9ceeca43f5fef          20170509  100000.0\n",
              "4       None  118  a03223e636434f42ac4c3df47e8bac43          20170804       NaN\n",
              "...      ...  ...                               ...               ...       ...\n",
              "16995      F   45  6d5f3a774f3d4714ab0c092238f3a1d7          20180604   54000.0\n",
              "16996      M   61  2cb4f97358b841b9a9773a7aa05a9d77          20180713   72000.0\n",
              "16997      M   49  01d26f638c274aa0b965d24cefe3183f          20170126   73000.0\n",
              "16998      F   83  9dc1421481194dcd9400aec7c9ae6366          20160307   50000.0\n",
              "16999      F   62  e4052622e5ba45a8b96b59aba68cf068          20170722   82000.0\n",
              "\n",
              "[17000 rows x 5 columns]"
            ]
          },
          "metadata": {
            "tags": []
          },
          "execution_count": 65
        }
      ]
    },
    {
      "cell_type": "code",
      "metadata": {
        "id": "mM49xCgbjeTx",
        "colab": {
          "base_uri": "https://localhost:8080/",
          "height": 197
        },
        "outputId": "b4438042-630c-49da-89b3-dc9e08f2e5bb"
      },
      "source": [
        "clean_prof_df = clean_profile_data1(profile_df)\n",
        "clean_prof_df.head()"
      ],
      "execution_count": 5,
      "outputs": [
        {
          "output_type": "execute_result",
          "data": {
            "text/html": [
              "<div>\n",
              "<style scoped>\n",
              "    .dataframe tbody tr th:only-of-type {\n",
              "        vertical-align: middle;\n",
              "    }\n",
              "\n",
              "    .dataframe tbody tr th {\n",
              "        vertical-align: top;\n",
              "    }\n",
              "\n",
              "    .dataframe thead th {\n",
              "        text-align: right;\n",
              "    }\n",
              "</style>\n",
              "<table border=\"1\" class=\"dataframe\">\n",
              "  <thead>\n",
              "    <tr style=\"text-align: right;\">\n",
              "      <th></th>\n",
              "      <th>female</th>\n",
              "      <th>male</th>\n",
              "      <th>other</th>\n",
              "      <th>unknown gender</th>\n",
              "      <th>age</th>\n",
              "      <th>person</th>\n",
              "      <th>member joined</th>\n",
              "      <th>income</th>\n",
              "    </tr>\n",
              "  </thead>\n",
              "  <tbody>\n",
              "    <tr>\n",
              "      <th>0</th>\n",
              "      <td>0</td>\n",
              "      <td>0</td>\n",
              "      <td>0</td>\n",
              "      <td>1</td>\n",
              "      <td>0</td>\n",
              "      <td>68be06ca386d4c31939f3a4f0e3dd783</td>\n",
              "      <td>2017-02-12</td>\n",
              "      <td>0.0</td>\n",
              "    </tr>\n",
              "    <tr>\n",
              "      <th>1</th>\n",
              "      <td>1</td>\n",
              "      <td>0</td>\n",
              "      <td>0</td>\n",
              "      <td>0</td>\n",
              "      <td>55</td>\n",
              "      <td>0610b486422d4921ae7d2bf64640c50b</td>\n",
              "      <td>2017-07-15</td>\n",
              "      <td>112000.0</td>\n",
              "    </tr>\n",
              "    <tr>\n",
              "      <th>2</th>\n",
              "      <td>0</td>\n",
              "      <td>0</td>\n",
              "      <td>0</td>\n",
              "      <td>1</td>\n",
              "      <td>0</td>\n",
              "      <td>38fe809add3b4fcf9315a9694bb96ff5</td>\n",
              "      <td>2018-07-12</td>\n",
              "      <td>0.0</td>\n",
              "    </tr>\n",
              "    <tr>\n",
              "      <th>3</th>\n",
              "      <td>1</td>\n",
              "      <td>0</td>\n",
              "      <td>0</td>\n",
              "      <td>0</td>\n",
              "      <td>75</td>\n",
              "      <td>78afa995795e4d85b5d9ceeca43f5fef</td>\n",
              "      <td>2017-05-09</td>\n",
              "      <td>100000.0</td>\n",
              "    </tr>\n",
              "    <tr>\n",
              "      <th>4</th>\n",
              "      <td>0</td>\n",
              "      <td>0</td>\n",
              "      <td>0</td>\n",
              "      <td>1</td>\n",
              "      <td>0</td>\n",
              "      <td>a03223e636434f42ac4c3df47e8bac43</td>\n",
              "      <td>2017-08-04</td>\n",
              "      <td>0.0</td>\n",
              "    </tr>\n",
              "  </tbody>\n",
              "</table>\n",
              "</div>"
            ],
            "text/plain": [
              "   female  male  ...  member joined    income\n",
              "0       0     0  ...     2017-02-12       0.0\n",
              "1       1     0  ...     2017-07-15  112000.0\n",
              "2       0     0  ...     2018-07-12       0.0\n",
              "3       1     0  ...     2017-05-09  100000.0\n",
              "4       0     0  ...     2017-08-04       0.0\n",
              "\n",
              "[5 rows x 8 columns]"
            ]
          },
          "metadata": {
            "tags": []
          },
          "execution_count": 5
        }
      ]
    },
    {
      "cell_type": "code",
      "metadata": {
        "id": "Lya2ZuGujeTy",
        "colab": {
          "base_uri": "https://localhost:8080/",
          "height": 214
        },
        "outputId": "39d1a4e7-a185-4f41-c8f9-e003804d15e5"
      },
      "source": [
        "clean_trans_df = clean_transcript_data(transcript_df)\n",
        "clean_trans_df.head()"
      ],
      "execution_count": 82,
      "outputs": [
        {
          "output_type": "execute_result",
          "data": {
            "text/html": [
              "<div>\n",
              "<style scoped>\n",
              "    .dataframe tbody tr th:only-of-type {\n",
              "        vertical-align: middle;\n",
              "    }\n",
              "\n",
              "    .dataframe tbody tr th {\n",
              "        vertical-align: top;\n",
              "    }\n",
              "\n",
              "    .dataframe thead th {\n",
              "        text-align: right;\n",
              "    }\n",
              "</style>\n",
              "<table border=\"1\" class=\"dataframe\">\n",
              "  <thead>\n",
              "    <tr style=\"text-align: right;\">\n",
              "      <th></th>\n",
              "      <th>offer completed</th>\n",
              "      <th>offer received</th>\n",
              "      <th>offer viewed</th>\n",
              "      <th>transaction</th>\n",
              "      <th>amount</th>\n",
              "      <th>offer_id</th>\n",
              "      <th>person</th>\n",
              "      <th>time</th>\n",
              "      <th>id</th>\n",
              "    </tr>\n",
              "  </thead>\n",
              "  <tbody>\n",
              "    <tr>\n",
              "      <th>0</th>\n",
              "      <td>0</td>\n",
              "      <td>1</td>\n",
              "      <td>0</td>\n",
              "      <td>0</td>\n",
              "      <td>0</td>\n",
              "      <td>1</td>\n",
              "      <td>78afa995795e4d85b5d9ceeca43f5fef</td>\n",
              "      <td>0</td>\n",
              "      <td>9b98b8c7a33c4b65b9aebfe6a799e6d9</td>\n",
              "    </tr>\n",
              "    <tr>\n",
              "      <th>1</th>\n",
              "      <td>0</td>\n",
              "      <td>1</td>\n",
              "      <td>0</td>\n",
              "      <td>0</td>\n",
              "      <td>0</td>\n",
              "      <td>1</td>\n",
              "      <td>a03223e636434f42ac4c3df47e8bac43</td>\n",
              "      <td>0</td>\n",
              "      <td>0b1e1539f2cc45b7b9fa7c272da2e1d7</td>\n",
              "    </tr>\n",
              "    <tr>\n",
              "      <th>2</th>\n",
              "      <td>0</td>\n",
              "      <td>1</td>\n",
              "      <td>0</td>\n",
              "      <td>0</td>\n",
              "      <td>0</td>\n",
              "      <td>1</td>\n",
              "      <td>e2127556f4f64592b11af22de27a7932</td>\n",
              "      <td>0</td>\n",
              "      <td>2906b810c7d4411798c6938adc9daaa5</td>\n",
              "    </tr>\n",
              "    <tr>\n",
              "      <th>3</th>\n",
              "      <td>0</td>\n",
              "      <td>1</td>\n",
              "      <td>0</td>\n",
              "      <td>0</td>\n",
              "      <td>0</td>\n",
              "      <td>1</td>\n",
              "      <td>8ec6ce2a7e7949b1bf142def7d0e0586</td>\n",
              "      <td>0</td>\n",
              "      <td>fafdcd668e3743c1bb461111dcafc2a4</td>\n",
              "    </tr>\n",
              "    <tr>\n",
              "      <th>4</th>\n",
              "      <td>0</td>\n",
              "      <td>1</td>\n",
              "      <td>0</td>\n",
              "      <td>0</td>\n",
              "      <td>0</td>\n",
              "      <td>1</td>\n",
              "      <td>68617ca6246f4fbc85e91a2a49552598</td>\n",
              "      <td>0</td>\n",
              "      <td>4d5c57ea9a6940dd891ad53e9dbe8da0</td>\n",
              "    </tr>\n",
              "  </tbody>\n",
              "</table>\n",
              "</div>"
            ],
            "text/plain": [
              "   offer completed  offer received  ...  time                                id\n",
              "0                0               1  ...     0  9b98b8c7a33c4b65b9aebfe6a799e6d9\n",
              "1                0               1  ...     0  0b1e1539f2cc45b7b9fa7c272da2e1d7\n",
              "2                0               1  ...     0  2906b810c7d4411798c6938adc9daaa5\n",
              "3                0               1  ...     0  fafdcd668e3743c1bb461111dcafc2a4\n",
              "4                0               1  ...     0  4d5c57ea9a6940dd891ad53e9dbe8da0\n",
              "\n",
              "[5 rows x 9 columns]"
            ]
          },
          "metadata": {
            "tags": []
          },
          "execution_count": 82
        }
      ]
    },
    {
      "cell_type": "code",
      "metadata": {
        "id": "YZxztN5wjeT1"
      },
      "source": [
        "def transactions(data):\n",
        "    \"\"\"\n",
        "    returns all the transactions from the transcript dataframe\n",
        "    \"\"\"\n",
        "    transactions_df = data[data['transaction'] == 1]\n",
        "    transactions_df = transactions_df[['person','time','id']]\n",
        "    transactions_df.columns = ['person','transaction_time','spend']\n",
        "    \n",
        "    return transactions_df"
      ],
      "execution_count": 83,
      "outputs": []
    },
    {
      "cell_type": "code",
      "metadata": {
        "id": "-K4ozvHRjeT1",
        "colab": {
          "base_uri": "https://localhost:8080/"
        },
        "outputId": "ae9c6169-5363-42aa-e4de-20beda2cc403"
      },
      "source": [
        "# split out the all the transactions\n",
        "\n",
        "transactions_df = transactions(clean_trans_df)\n",
        "transactions_df.shape"
      ],
      "execution_count": 84,
      "outputs": [
        {
          "output_type": "execute_result",
          "data": {
            "text/plain": [
              "(138953, 3)"
            ]
          },
          "metadata": {
            "tags": []
          },
          "execution_count": 84
        }
      ]
    },
    {
      "cell_type": "code",
      "metadata": {
        "id": "bs_U3fP6jeT2",
        "colab": {
          "base_uri": "https://localhost:8080/",
          "height": 197
        },
        "outputId": "c1ee3dd1-49eb-4492-9993-77845b01bdad"
      },
      "source": [
        "transactions_df.head()"
      ],
      "execution_count": 85,
      "outputs": [
        {
          "output_type": "execute_result",
          "data": {
            "text/html": [
              "<div>\n",
              "<style scoped>\n",
              "    .dataframe tbody tr th:only-of-type {\n",
              "        vertical-align: middle;\n",
              "    }\n",
              "\n",
              "    .dataframe tbody tr th {\n",
              "        vertical-align: top;\n",
              "    }\n",
              "\n",
              "    .dataframe thead th {\n",
              "        text-align: right;\n",
              "    }\n",
              "</style>\n",
              "<table border=\"1\" class=\"dataframe\">\n",
              "  <thead>\n",
              "    <tr style=\"text-align: right;\">\n",
              "      <th></th>\n",
              "      <th>person</th>\n",
              "      <th>transaction_time</th>\n",
              "      <th>spend</th>\n",
              "    </tr>\n",
              "  </thead>\n",
              "  <tbody>\n",
              "    <tr>\n",
              "      <th>12654</th>\n",
              "      <td>02c083884c7d45b39cc68e1314fec56c</td>\n",
              "      <td>0</td>\n",
              "      <td>0.83</td>\n",
              "    </tr>\n",
              "    <tr>\n",
              "      <th>12657</th>\n",
              "      <td>9fa9ae8f57894cc9a3b8a9bbe0fc1b2f</td>\n",
              "      <td>0</td>\n",
              "      <td>34.56</td>\n",
              "    </tr>\n",
              "    <tr>\n",
              "      <th>12659</th>\n",
              "      <td>54890f68699049c2a04d415abc25e717</td>\n",
              "      <td>0</td>\n",
              "      <td>13.23</td>\n",
              "    </tr>\n",
              "    <tr>\n",
              "      <th>12670</th>\n",
              "      <td>b2f1cd155b864803ad8334cdf13c4bd2</td>\n",
              "      <td>0</td>\n",
              "      <td>19.51</td>\n",
              "    </tr>\n",
              "    <tr>\n",
              "      <th>12671</th>\n",
              "      <td>fe97aa22dd3e48c8b143116a8403dd52</td>\n",
              "      <td>0</td>\n",
              "      <td>18.97</td>\n",
              "    </tr>\n",
              "  </tbody>\n",
              "</table>\n",
              "</div>"
            ],
            "text/plain": [
              "                                 person  transaction_time  spend\n",
              "12654  02c083884c7d45b39cc68e1314fec56c                 0   0.83\n",
              "12657  9fa9ae8f57894cc9a3b8a9bbe0fc1b2f                 0  34.56\n",
              "12659  54890f68699049c2a04d415abc25e717                 0  13.23\n",
              "12670  b2f1cd155b864803ad8334cdf13c4bd2                 0  19.51\n",
              "12671  fe97aa22dd3e48c8b143116a8403dd52                 0  18.97"
            ]
          },
          "metadata": {
            "tags": []
          },
          "execution_count": 85
        }
      ]
    },
    {
      "cell_type": "code",
      "metadata": {
        "id": "9WY_AoUNjeT3"
      },
      "source": [
        "def offers(transcript_data, portfolio_data):\n",
        "    \"\"\"\n",
        "    returns all of the offers that were received/viewed/completed combined with portfolio data\n",
        "    \"\"\"\n",
        "    # keep only the recived offers\n",
        "    received_offer = transcript_data[transcript_data['offer received'] == 1]\n",
        "    received_offer = received_offer[['offer received','person', 'time', 'id']]\n",
        "    received_offer.columns = ['offer received','person', 'time_received', 'id_offer']    \n",
        "    \n",
        "    # keep only the viewed offers\n",
        "    veiwed_offer = transcript_data[transcript_data['offer viewed'] == 1]\n",
        "    veiwed_offer = veiwed_offer[['offer viewed','person', 'time', 'id']]\n",
        "    veiwed_offer.columns = ['offer viewed','person', 'time_viewed', 'id_offer']\n",
        "    \n",
        "    # keep all the offers completed data as informational campaigns don't have a completed flag\n",
        "    completed_offer = transcript_data\n",
        "    completed_offer = completed_offer[['offer completed','person', 'time', 'id']]\n",
        "    completed_offer.columns = ['offer completed','person', 'time_completed', 'id_offer']\n",
        "    \n",
        "    # merge the offers data into one dataframe based on id and person\n",
        "    merged_veiws = received_offer.merge(veiwed_offer, on=['person','id_offer']) \n",
        "    merged_completed = merged_veiws.merge(completed_offer, on=['person','id_offer']) \n",
        "    \n",
        "    # drop anywhere the offer was recived after being viewed \n",
        "    # (not useful as it suggests it was a different offer)\n",
        "    merged_completed = merged_completed[merged_completed['time_viewed'] > \n",
        "                                        merged_completed['time_received']]\n",
        "    \n",
        "    # merges all of the offer data with info in the portfolio data\n",
        "    portfolio_data = portfolio_data.rename(columns = {'id':'id_offer'})\n",
        "    offers = merged_completed.merge(portfolio_data, on=['id_offer'])\n",
        "    \n",
        "    # change duration time to hours\n",
        "    offers['duration'] = offers['duration']*24\n",
        "    \n",
        "    return offers\n",
        "\n",
        "def influenced_bogo(transcript_data, portfolio_data):\n",
        "    \"\"\"\n",
        "    this function has been created to keep only BOGO offers that influenced a purchase\n",
        "    \"\"\"\n",
        "    # gets all of the offers that were received/viewed/completed formatted together\n",
        "    offer_data = offers(transcript_data, portfolio_data)\n",
        "    \n",
        "    # select only the bogo offers and have been completed\n",
        "    bogo_offers = offer_data[(offer_data['bogo'] == 1) & \n",
        "                             (offer_data['offer completed'] == 1)]\n",
        "    \n",
        "    # removes any that were completed prior to being viewed\n",
        "    bogo_offers = bogo_offers[bogo_offers['time_completed'] >= \n",
        "                              bogo_offers['time_viewed']]\n",
        "    \n",
        "    # removes offers that were completed outside of the offer timeframe (indicating it was a second offer)\n",
        "    bogo_offers = bogo_offers[(bogo_offers['duration'] >= (bogo_offers['time_completed'] - \n",
        "                                                           bogo_offers['time_received']))\n",
        "                             ]\n",
        "\n",
        "    # creates the transaction data\n",
        "    transactions_data = transactions(transcript_data)\n",
        "    \n",
        "    # merge the offers and transactions\n",
        "    transactions_bogo = transactions_data.merge(bogo_offers, on=['person'])\n",
        "    \n",
        "    # filter the tansactions keeping ones that occured at same time as the offer was complete\n",
        "    transactions_bogo = transactions_bogo[transactions_bogo['transaction_time'] == \n",
        "                                          transactions_bogo['time_completed']]\n",
        "    \n",
        "    # remove any repeat transactions\n",
        "    transactions_bogo = transactions_bogo.drop_duplicates(subset=['person','transaction_time','spend'], keep=\"first\")\n",
        "    \n",
        "    return transactions_bogo\n",
        "\n",
        "def influenced_discount(transcript_data, portfolio_data):\n",
        "    \"\"\"\n",
        "    this function has been created to keep only discount offers that influenced a purchase\n",
        "    \"\"\"\n",
        "    # gets all of the offers that were received/viewed/completed formatted together\n",
        "    offer_data = offers(transcript_data, portfolio_data)\n",
        "    \n",
        "    # select only the discuont offers and have been completed\n",
        "    discount_offers = offer_data[(offer_data['discount'] == 1) & \n",
        "                                 (offer_data['offer completed'] == 1)]\n",
        "    \n",
        "    # removes any that were completed prior to being viewed\n",
        "    discount_offers = discount_offers[discount_offers['time_completed'] >= \n",
        "                                      discount_offers['time_viewed']]\n",
        "    \n",
        "    # removes offers that were completed outside of the timeframe (indicating it was a second offer)\n",
        "    discount_offers = discount_offers[discount_offers['duration'] >= (discount_offers['time_completed'] - \n",
        "                                                                      discount_offers['time_received'])]\n",
        "\n",
        "    # creates the transaction data\n",
        "    transactions_data = transactions(transcript_data)\n",
        "    \n",
        "    # merge the offers and transactions\n",
        "    transactions_discount = transactions_data.merge(discount_offers, on=['person'])\n",
        "    \n",
        "    # filter the tansactions keeping the ones after the offer was viewed but before it was completed\n",
        "    transactions_discount = transactions_discount[(transactions_discount['transaction_time'] >= transactions_discount['time_viewed']) &\n",
        "                                                 (transactions_discount['transaction_time'] <= transactions_discount['time_completed'])]\n",
        "    \n",
        "    # remove any repeat transactions\n",
        "    transactions_discount = transactions_discount.drop_duplicates(subset=['person','transaction_time','spend'], keep=\"first\")\n",
        "    \n",
        "    return transactions_discount\n",
        "\n",
        "def influenced_informational(transcript_data, portfolio_data):\n",
        "    \"\"\"\n",
        "    this function has been created to keep only informational offers that influenced a purchase\n",
        "    \"\"\"\n",
        "    # gets all of the offers that were received/viewed/completed formatted together\n",
        "    offer_data = offers(transcript_data, portfolio_data)\n",
        "    \n",
        "    # select only the informational offers\n",
        "    info_offers = offer_data[(offer_data['informational'] == 1)]\n",
        "\n",
        "    # creates the transaction data\n",
        "    transactions_data = transactions(transcript_data)\n",
        "    \n",
        "    # merge the offers and transactions\n",
        "    transactions_info = transactions_data.merge(info_offers, on=['person'])\n",
        "    \n",
        "    # filter the tansactions keeping the ones after the offer was viewed\n",
        "    transactions_info = transactions_info[(transactions_info['transaction_time'] >= transactions_info['time_viewed'])]\n",
        "    \n",
        "    # removes transactions that happened outside of duration timeframe of the offer\n",
        "    transactions_info = transactions_info[transactions_info['duration'] >= (transactions_info['transaction_time'] - \n",
        "                                                                            transactions_info['time_viewed'])]\n",
        "    \n",
        "    # remove any repeat transactions\n",
        "    transactions_info = transactions_info.drop_duplicates(subset=['person','transaction_time','spend'], keep=\"first\")\n",
        "    \n",
        "    return transactions_info"
      ],
      "execution_count": 86,
      "outputs": []
    },
    {
      "cell_type": "code",
      "metadata": {
        "id": "H2AgmswyjeT9",
        "colab": {
          "base_uri": "https://localhost:8080/",
          "height": 252
        },
        "outputId": "60ed3851-e694-4479-ad55-49a71bdc4fcf"
      },
      "source": [
        "inf_discount = influenced_discount(clean_trans_df, clean_port_df)\n",
        "print(inf_discount.shape)\n",
        "inf_discount.head()"
      ],
      "execution_count": 87,
      "outputs": [
        {
          "output_type": "stream",
          "text": [
            "(15428, 20)\n"
          ],
          "name": "stdout"
        },
        {
          "output_type": "execute_result",
          "data": {
            "text/html": [
              "<div>\n",
              "<style scoped>\n",
              "    .dataframe tbody tr th:only-of-type {\n",
              "        vertical-align: middle;\n",
              "    }\n",
              "\n",
              "    .dataframe tbody tr th {\n",
              "        vertical-align: top;\n",
              "    }\n",
              "\n",
              "    .dataframe thead th {\n",
              "        text-align: right;\n",
              "    }\n",
              "</style>\n",
              "<table border=\"1\" class=\"dataframe\">\n",
              "  <thead>\n",
              "    <tr style=\"text-align: right;\">\n",
              "      <th></th>\n",
              "      <th>person</th>\n",
              "      <th>transaction_time</th>\n",
              "      <th>spend</th>\n",
              "      <th>offer received</th>\n",
              "      <th>time_received</th>\n",
              "      <th>id_offer</th>\n",
              "      <th>offer viewed</th>\n",
              "      <th>time_viewed</th>\n",
              "      <th>offer completed</th>\n",
              "      <th>time_completed</th>\n",
              "      <th>bogo</th>\n",
              "      <th>discount</th>\n",
              "      <th>informational</th>\n",
              "      <th>email</th>\n",
              "      <th>mobile</th>\n",
              "      <th>social</th>\n",
              "      <th>web</th>\n",
              "      <th>reward</th>\n",
              "      <th>difficulty</th>\n",
              "      <th>duration</th>\n",
              "    </tr>\n",
              "  </thead>\n",
              "  <tbody>\n",
              "    <tr>\n",
              "      <th>13</th>\n",
              "      <td>9fa9ae8f57894cc9a3b8a9bbe0fc1b2f</td>\n",
              "      <td>354</td>\n",
              "      <td>18.42</td>\n",
              "      <td>1</td>\n",
              "      <td>336</td>\n",
              "      <td>2298d6c36e964ae4a3e7e9706d1fb8c2</td>\n",
              "      <td>1</td>\n",
              "      <td>342</td>\n",
              "      <td>1</td>\n",
              "      <td>354</td>\n",
              "      <td>0</td>\n",
              "      <td>1</td>\n",
              "      <td>0</td>\n",
              "      <td>1.0</td>\n",
              "      <td>1.0</td>\n",
              "      <td>1.0</td>\n",
              "      <td>1.0</td>\n",
              "      <td>3</td>\n",
              "      <td>7</td>\n",
              "      <td>168</td>\n",
              "    </tr>\n",
              "    <tr>\n",
              "      <th>20</th>\n",
              "      <td>9fa9ae8f57894cc9a3b8a9bbe0fc1b2f</td>\n",
              "      <td>474</td>\n",
              "      <td>21.13</td>\n",
              "      <td>1</td>\n",
              "      <td>408</td>\n",
              "      <td>0b1e1539f2cc45b7b9fa7c272da2e1d7</td>\n",
              "      <td>1</td>\n",
              "      <td>462</td>\n",
              "      <td>1</td>\n",
              "      <td>474</td>\n",
              "      <td>0</td>\n",
              "      <td>1</td>\n",
              "      <td>0</td>\n",
              "      <td>1.0</td>\n",
              "      <td>0.0</td>\n",
              "      <td>0.0</td>\n",
              "      <td>1.0</td>\n",
              "      <td>5</td>\n",
              "      <td>20</td>\n",
              "      <td>240</td>\n",
              "    </tr>\n",
              "    <tr>\n",
              "      <th>26</th>\n",
              "      <td>54890f68699049c2a04d415abc25e717</td>\n",
              "      <td>330</td>\n",
              "      <td>15.61</td>\n",
              "      <td>1</td>\n",
              "      <td>168</td>\n",
              "      <td>2298d6c36e964ae4a3e7e9706d1fb8c2</td>\n",
              "      <td>1</td>\n",
              "      <td>186</td>\n",
              "      <td>1</td>\n",
              "      <td>330</td>\n",
              "      <td>0</td>\n",
              "      <td>1</td>\n",
              "      <td>0</td>\n",
              "      <td>1.0</td>\n",
              "      <td>1.0</td>\n",
              "      <td>1.0</td>\n",
              "      <td>1.0</td>\n",
              "      <td>3</td>\n",
              "      <td>7</td>\n",
              "      <td>168</td>\n",
              "    </tr>\n",
              "    <tr>\n",
              "      <th>42</th>\n",
              "      <td>bbeb54e861614fc7b22a8844f72dca6c</td>\n",
              "      <td>372</td>\n",
              "      <td>2.36</td>\n",
              "      <td>1</td>\n",
              "      <td>336</td>\n",
              "      <td>2298d6c36e964ae4a3e7e9706d1fb8c2</td>\n",
              "      <td>1</td>\n",
              "      <td>354</td>\n",
              "      <td>1</td>\n",
              "      <td>396</td>\n",
              "      <td>0</td>\n",
              "      <td>1</td>\n",
              "      <td>0</td>\n",
              "      <td>1.0</td>\n",
              "      <td>1.0</td>\n",
              "      <td>1.0</td>\n",
              "      <td>1.0</td>\n",
              "      <td>3</td>\n",
              "      <td>7</td>\n",
              "      <td>168</td>\n",
              "    </tr>\n",
              "    <tr>\n",
              "      <th>44</th>\n",
              "      <td>bbeb54e861614fc7b22a8844f72dca6c</td>\n",
              "      <td>390</td>\n",
              "      <td>0.36</td>\n",
              "      <td>1</td>\n",
              "      <td>336</td>\n",
              "      <td>2298d6c36e964ae4a3e7e9706d1fb8c2</td>\n",
              "      <td>1</td>\n",
              "      <td>354</td>\n",
              "      <td>1</td>\n",
              "      <td>396</td>\n",
              "      <td>0</td>\n",
              "      <td>1</td>\n",
              "      <td>0</td>\n",
              "      <td>1.0</td>\n",
              "      <td>1.0</td>\n",
              "      <td>1.0</td>\n",
              "      <td>1.0</td>\n",
              "      <td>3</td>\n",
              "      <td>7</td>\n",
              "      <td>168</td>\n",
              "    </tr>\n",
              "  </tbody>\n",
              "</table>\n",
              "</div>"
            ],
            "text/plain": [
              "                              person  transaction_time  ... difficulty  duration\n",
              "13  9fa9ae8f57894cc9a3b8a9bbe0fc1b2f               354  ...          7       168\n",
              "20  9fa9ae8f57894cc9a3b8a9bbe0fc1b2f               474  ...         20       240\n",
              "26  54890f68699049c2a04d415abc25e717               330  ...          7       168\n",
              "42  bbeb54e861614fc7b22a8844f72dca6c               372  ...          7       168\n",
              "44  bbeb54e861614fc7b22a8844f72dca6c               390  ...          7       168\n",
              "\n",
              "[5 rows x 20 columns]"
            ]
          },
          "metadata": {
            "tags": []
          },
          "execution_count": 87
        }
      ]
    },
    {
      "cell_type": "code",
      "metadata": {
        "id": "IPryz4tmjeUB",
        "colab": {
          "base_uri": "https://localhost:8080/",
          "height": 252
        },
        "outputId": "7a00da2b-acd2-44d0-a75d-9f8c5775bdb5"
      },
      "source": [
        "inf_bogo = influenced_bogo(clean_trans_df, clean_port_df)\n",
        "print(inf_bogo.shape)\n",
        "inf_bogo.head()"
      ],
      "execution_count": 88,
      "outputs": [
        {
          "output_type": "stream",
          "text": [
            "(7957, 20)\n"
          ],
          "name": "stdout"
        },
        {
          "output_type": "execute_result",
          "data": {
            "text/html": [
              "<div>\n",
              "<style scoped>\n",
              "    .dataframe tbody tr th:only-of-type {\n",
              "        vertical-align: middle;\n",
              "    }\n",
              "\n",
              "    .dataframe tbody tr th {\n",
              "        vertical-align: top;\n",
              "    }\n",
              "\n",
              "    .dataframe thead th {\n",
              "        text-align: right;\n",
              "    }\n",
              "</style>\n",
              "<table border=\"1\" class=\"dataframe\">\n",
              "  <thead>\n",
              "    <tr style=\"text-align: right;\">\n",
              "      <th></th>\n",
              "      <th>person</th>\n",
              "      <th>transaction_time</th>\n",
              "      <th>spend</th>\n",
              "      <th>offer received</th>\n",
              "      <th>time_received</th>\n",
              "      <th>id_offer</th>\n",
              "      <th>offer viewed</th>\n",
              "      <th>time_viewed</th>\n",
              "      <th>offer completed</th>\n",
              "      <th>time_completed</th>\n",
              "      <th>bogo</th>\n",
              "      <th>discount</th>\n",
              "      <th>informational</th>\n",
              "      <th>email</th>\n",
              "      <th>mobile</th>\n",
              "      <th>social</th>\n",
              "      <th>web</th>\n",
              "      <th>reward</th>\n",
              "      <th>difficulty</th>\n",
              "      <th>duration</th>\n",
              "    </tr>\n",
              "  </thead>\n",
              "  <tbody>\n",
              "    <tr>\n",
              "      <th>11</th>\n",
              "      <td>9fa9ae8f57894cc9a3b8a9bbe0fc1b2f</td>\n",
              "      <td>540</td>\n",
              "      <td>24.3</td>\n",
              "      <td>1</td>\n",
              "      <td>504</td>\n",
              "      <td>4d5c57ea9a6940dd891ad53e9dbe8da0</td>\n",
              "      <td>1</td>\n",
              "      <td>516</td>\n",
              "      <td>1</td>\n",
              "      <td>540</td>\n",
              "      <td>1</td>\n",
              "      <td>0</td>\n",
              "      <td>0</td>\n",
              "      <td>1.0</td>\n",
              "      <td>1.0</td>\n",
              "      <td>1.0</td>\n",
              "      <td>1.0</td>\n",
              "      <td>10</td>\n",
              "      <td>10</td>\n",
              "      <td>120</td>\n",
              "    </tr>\n",
              "    <tr>\n",
              "      <th>19</th>\n",
              "      <td>676506bad68e4161b9bbaffeb039626b</td>\n",
              "      <td>636</td>\n",
              "      <td>17.2</td>\n",
              "      <td>1</td>\n",
              "      <td>576</td>\n",
              "      <td>9b98b8c7a33c4b65b9aebfe6a799e6d9</td>\n",
              "      <td>1</td>\n",
              "      <td>588</td>\n",
              "      <td>1</td>\n",
              "      <td>636</td>\n",
              "      <td>1</td>\n",
              "      <td>0</td>\n",
              "      <td>0</td>\n",
              "      <td>1.0</td>\n",
              "      <td>1.0</td>\n",
              "      <td>0.0</td>\n",
              "      <td>1.0</td>\n",
              "      <td>5</td>\n",
              "      <td>5</td>\n",
              "      <td>168</td>\n",
              "    </tr>\n",
              "    <tr>\n",
              "      <th>22</th>\n",
              "      <td>4cbe33c601a5407f8202086565c55111</td>\n",
              "      <td>558</td>\n",
              "      <td>31.72</td>\n",
              "      <td>1</td>\n",
              "      <td>504</td>\n",
              "      <td>ae264e3637204a6fb9bb56bc8210ddfd</td>\n",
              "      <td>1</td>\n",
              "      <td>522</td>\n",
              "      <td>1</td>\n",
              "      <td>558</td>\n",
              "      <td>1</td>\n",
              "      <td>0</td>\n",
              "      <td>0</td>\n",
              "      <td>1.0</td>\n",
              "      <td>1.0</td>\n",
              "      <td>1.0</td>\n",
              "      <td>0.0</td>\n",
              "      <td>10</td>\n",
              "      <td>10</td>\n",
              "      <td>168</td>\n",
              "    </tr>\n",
              "    <tr>\n",
              "      <th>33</th>\n",
              "      <td>a04fcfd571034456aaa6d56c0a3fd9b6</td>\n",
              "      <td>660</td>\n",
              "      <td>223.07</td>\n",
              "      <td>1</td>\n",
              "      <td>576</td>\n",
              "      <td>f19421c1d4aa40978ebb69ca19b0e20d</td>\n",
              "      <td>1</td>\n",
              "      <td>612</td>\n",
              "      <td>1</td>\n",
              "      <td>660</td>\n",
              "      <td>1</td>\n",
              "      <td>0</td>\n",
              "      <td>0</td>\n",
              "      <td>1.0</td>\n",
              "      <td>1.0</td>\n",
              "      <td>1.0</td>\n",
              "      <td>1.0</td>\n",
              "      <td>5</td>\n",
              "      <td>5</td>\n",
              "      <td>120</td>\n",
              "    </tr>\n",
              "    <tr>\n",
              "      <th>39</th>\n",
              "      <td>227f2d69e46a4899b70d48182822cff6</td>\n",
              "      <td>642</td>\n",
              "      <td>24.7</td>\n",
              "      <td>1</td>\n",
              "      <td>576</td>\n",
              "      <td>ae264e3637204a6fb9bb56bc8210ddfd</td>\n",
              "      <td>1</td>\n",
              "      <td>582</td>\n",
              "      <td>1</td>\n",
              "      <td>642</td>\n",
              "      <td>1</td>\n",
              "      <td>0</td>\n",
              "      <td>0</td>\n",
              "      <td>1.0</td>\n",
              "      <td>1.0</td>\n",
              "      <td>1.0</td>\n",
              "      <td>0.0</td>\n",
              "      <td>10</td>\n",
              "      <td>10</td>\n",
              "      <td>168</td>\n",
              "    </tr>\n",
              "  </tbody>\n",
              "</table>\n",
              "</div>"
            ],
            "text/plain": [
              "                              person  transaction_time  ... difficulty  duration\n",
              "11  9fa9ae8f57894cc9a3b8a9bbe0fc1b2f               540  ...         10       120\n",
              "19  676506bad68e4161b9bbaffeb039626b               636  ...          5       168\n",
              "22  4cbe33c601a5407f8202086565c55111               558  ...         10       168\n",
              "33  a04fcfd571034456aaa6d56c0a3fd9b6               660  ...          5       120\n",
              "39  227f2d69e46a4899b70d48182822cff6               642  ...         10       168\n",
              "\n",
              "[5 rows x 20 columns]"
            ]
          },
          "metadata": {
            "tags": []
          },
          "execution_count": 88
        }
      ]
    },
    {
      "cell_type": "code",
      "metadata": {
        "id": "yk2vLKh9jeUC",
        "colab": {
          "base_uri": "https://localhost:8080/",
          "height": 252
        },
        "outputId": "d07abd41-43b3-4a12-979a-3e8a187cc5bf"
      },
      "source": [
        "inf_informational = influenced_informational(clean_trans_df, clean_port_df)\n",
        "print(inf_informational.shape)\n",
        "inf_informational.head()"
      ],
      "execution_count": 89,
      "outputs": [
        {
          "output_type": "stream",
          "text": [
            "(10290, 20)\n"
          ],
          "name": "stdout"
        },
        {
          "output_type": "execute_result",
          "data": {
            "text/html": [
              "<div>\n",
              "<style scoped>\n",
              "    .dataframe tbody tr th:only-of-type {\n",
              "        vertical-align: middle;\n",
              "    }\n",
              "\n",
              "    .dataframe tbody tr th {\n",
              "        vertical-align: top;\n",
              "    }\n",
              "\n",
              "    .dataframe thead th {\n",
              "        text-align: right;\n",
              "    }\n",
              "</style>\n",
              "<table border=\"1\" class=\"dataframe\">\n",
              "  <thead>\n",
              "    <tr style=\"text-align: right;\">\n",
              "      <th></th>\n",
              "      <th>person</th>\n",
              "      <th>transaction_time</th>\n",
              "      <th>spend</th>\n",
              "      <th>offer received</th>\n",
              "      <th>time_received</th>\n",
              "      <th>id_offer</th>\n",
              "      <th>offer viewed</th>\n",
              "      <th>time_viewed</th>\n",
              "      <th>offer completed</th>\n",
              "      <th>time_completed</th>\n",
              "      <th>bogo</th>\n",
              "      <th>discount</th>\n",
              "      <th>informational</th>\n",
              "      <th>email</th>\n",
              "      <th>mobile</th>\n",
              "      <th>social</th>\n",
              "      <th>web</th>\n",
              "      <th>reward</th>\n",
              "      <th>difficulty</th>\n",
              "      <th>duration</th>\n",
              "    </tr>\n",
              "  </thead>\n",
              "  <tbody>\n",
              "    <tr>\n",
              "      <th>10</th>\n",
              "      <td>54890f68699049c2a04d415abc25e717</td>\n",
              "      <td>534</td>\n",
              "      <td>20.01</td>\n",
              "      <td>1</td>\n",
              "      <td>408</td>\n",
              "      <td>5a8bc65990b245e5a138643cd4eb9837</td>\n",
              "      <td>1</td>\n",
              "      <td>468</td>\n",
              "      <td>0</td>\n",
              "      <td>408</td>\n",
              "      <td>0</td>\n",
              "      <td>0</td>\n",
              "      <td>1</td>\n",
              "      <td>1.0</td>\n",
              "      <td>1.0</td>\n",
              "      <td>1.0</td>\n",
              "      <td>0.0</td>\n",
              "      <td>0</td>\n",
              "      <td>0</td>\n",
              "      <td>72</td>\n",
              "    </tr>\n",
              "    <tr>\n",
              "      <th>24</th>\n",
              "      <td>b2f1cd155b864803ad8334cdf13c4bd2</td>\n",
              "      <td>102</td>\n",
              "      <td>17.53</td>\n",
              "      <td>1</td>\n",
              "      <td>0</td>\n",
              "      <td>5a8bc65990b245e5a138643cd4eb9837</td>\n",
              "      <td>1</td>\n",
              "      <td>66</td>\n",
              "      <td>0</td>\n",
              "      <td>0</td>\n",
              "      <td>0</td>\n",
              "      <td>0</td>\n",
              "      <td>1</td>\n",
              "      <td>1.0</td>\n",
              "      <td>1.0</td>\n",
              "      <td>1.0</td>\n",
              "      <td>0.0</td>\n",
              "      <td>0</td>\n",
              "      <td>0</td>\n",
              "      <td>72</td>\n",
              "    </tr>\n",
              "    <tr>\n",
              "      <th>30</th>\n",
              "      <td>b2f1cd155b864803ad8334cdf13c4bd2</td>\n",
              "      <td>222</td>\n",
              "      <td>27.45</td>\n",
              "      <td>1</td>\n",
              "      <td>168</td>\n",
              "      <td>3f207df678b143eea3cee63160fa8bed</td>\n",
              "      <td>1</td>\n",
              "      <td>198</td>\n",
              "      <td>0</td>\n",
              "      <td>168</td>\n",
              "      <td>0</td>\n",
              "      <td>0</td>\n",
              "      <td>1</td>\n",
              "      <td>1.0</td>\n",
              "      <td>1.0</td>\n",
              "      <td>0.0</td>\n",
              "      <td>1.0</td>\n",
              "      <td>0</td>\n",
              "      <td>0</td>\n",
              "      <td>96</td>\n",
              "    </tr>\n",
              "    <tr>\n",
              "      <th>174</th>\n",
              "      <td>fe97aa22dd3e48c8b143116a8403dd52</td>\n",
              "      <td>198</td>\n",
              "      <td>28.71</td>\n",
              "      <td>1</td>\n",
              "      <td>168</td>\n",
              "      <td>3f207df678b143eea3cee63160fa8bed</td>\n",
              "      <td>1</td>\n",
              "      <td>198</td>\n",
              "      <td>0</td>\n",
              "      <td>168</td>\n",
              "      <td>0</td>\n",
              "      <td>0</td>\n",
              "      <td>1</td>\n",
              "      <td>1.0</td>\n",
              "      <td>1.0</td>\n",
              "      <td>0.0</td>\n",
              "      <td>1.0</td>\n",
              "      <td>0</td>\n",
              "      <td>0</td>\n",
              "      <td>96</td>\n",
              "    </tr>\n",
              "    <tr>\n",
              "      <th>236</th>\n",
              "      <td>fe97aa22dd3e48c8b143116a8403dd52</td>\n",
              "      <td>438</td>\n",
              "      <td>380.24</td>\n",
              "      <td>1</td>\n",
              "      <td>408</td>\n",
              "      <td>5a8bc65990b245e5a138643cd4eb9837</td>\n",
              "      <td>1</td>\n",
              "      <td>420</td>\n",
              "      <td>0</td>\n",
              "      <td>408</td>\n",
              "      <td>0</td>\n",
              "      <td>0</td>\n",
              "      <td>1</td>\n",
              "      <td>1.0</td>\n",
              "      <td>1.0</td>\n",
              "      <td>1.0</td>\n",
              "      <td>0.0</td>\n",
              "      <td>0</td>\n",
              "      <td>0</td>\n",
              "      <td>72</td>\n",
              "    </tr>\n",
              "  </tbody>\n",
              "</table>\n",
              "</div>"
            ],
            "text/plain": [
              "                               person  transaction_time  ... difficulty  duration\n",
              "10   54890f68699049c2a04d415abc25e717               534  ...          0        72\n",
              "24   b2f1cd155b864803ad8334cdf13c4bd2               102  ...          0        72\n",
              "30   b2f1cd155b864803ad8334cdf13c4bd2               222  ...          0        96\n",
              "174  fe97aa22dd3e48c8b143116a8403dd52               198  ...          0        96\n",
              "236  fe97aa22dd3e48c8b143116a8403dd52               438  ...          0        72\n",
              "\n",
              "[5 rows x 20 columns]"
            ]
          },
          "metadata": {
            "tags": []
          },
          "execution_count": 89
        }
      ]
    },
    {
      "cell_type": "code",
      "metadata": {
        "id": "Qx7H0WzjjeUE"
      },
      "source": [
        "# Now that we have all the influenced transactions we can find the ones not influenced by offers\n",
        "def norm_transactions(clean_trans_df, clean_port_df):\n",
        "    \"\"\"\n",
        "    produces all the transactions that weren't influenced by offers\n",
        "    \"\"\"\n",
        "    # creates the transaction data\n",
        "    transactions_data = transactions(clean_trans_df)\n",
        "    \n",
        "    # all offer affected transactions\n",
        "    inf_discount = influenced_discount(clean_trans_df, clean_port_df)\n",
        "    inf_bogo = influenced_bogo(clean_trans_df, clean_port_df)\n",
        "    inf_informational = influenced_informational(clean_trans_df, clean_port_df)\n",
        "    \n",
        "    # combine all the influenced transcations    \n",
        "    inf_trans = inf_informational.append(inf_discount.append(inf_bogo))\n",
        "    \n",
        "    # drop to have the same columns as all transactions    \n",
        "    inf_trans = inf_trans[['person', 'transaction_time', 'spend']]\n",
        "    \n",
        "    # remove offer related transactions\n",
        "    norm_trans = pd.concat([transactions_data, inf_trans]).drop_duplicates(keep=False)\n",
        "    \n",
        "    return norm_trans"
      ],
      "execution_count": 90,
      "outputs": []
    },
    {
      "cell_type": "code",
      "metadata": {
        "id": "fxCdtYJ4jeUE",
        "colab": {
          "base_uri": "https://localhost:8080/",
          "height": 197
        },
        "outputId": "f3e0bfab-42d5-459d-88d8-a275010dcf4a"
      },
      "source": [
        "uninflunced_trans = norm_transactions(clean_trans_df, clean_port_df)\n",
        "uninflunced_trans.head()"
      ],
      "execution_count": 91,
      "outputs": [
        {
          "output_type": "execute_result",
          "data": {
            "text/html": [
              "<div>\n",
              "<style scoped>\n",
              "    .dataframe tbody tr th:only-of-type {\n",
              "        vertical-align: middle;\n",
              "    }\n",
              "\n",
              "    .dataframe tbody tr th {\n",
              "        vertical-align: top;\n",
              "    }\n",
              "\n",
              "    .dataframe thead th {\n",
              "        text-align: right;\n",
              "    }\n",
              "</style>\n",
              "<table border=\"1\" class=\"dataframe\">\n",
              "  <thead>\n",
              "    <tr style=\"text-align: right;\">\n",
              "      <th></th>\n",
              "      <th>person</th>\n",
              "      <th>transaction_time</th>\n",
              "      <th>spend</th>\n",
              "    </tr>\n",
              "  </thead>\n",
              "  <tbody>\n",
              "    <tr>\n",
              "      <th>12654</th>\n",
              "      <td>02c083884c7d45b39cc68e1314fec56c</td>\n",
              "      <td>0</td>\n",
              "      <td>0.83</td>\n",
              "    </tr>\n",
              "    <tr>\n",
              "      <th>12657</th>\n",
              "      <td>9fa9ae8f57894cc9a3b8a9bbe0fc1b2f</td>\n",
              "      <td>0</td>\n",
              "      <td>34.56</td>\n",
              "    </tr>\n",
              "    <tr>\n",
              "      <th>12659</th>\n",
              "      <td>54890f68699049c2a04d415abc25e717</td>\n",
              "      <td>0</td>\n",
              "      <td>13.23</td>\n",
              "    </tr>\n",
              "    <tr>\n",
              "      <th>12670</th>\n",
              "      <td>b2f1cd155b864803ad8334cdf13c4bd2</td>\n",
              "      <td>0</td>\n",
              "      <td>19.51</td>\n",
              "    </tr>\n",
              "    <tr>\n",
              "      <th>12671</th>\n",
              "      <td>fe97aa22dd3e48c8b143116a8403dd52</td>\n",
              "      <td>0</td>\n",
              "      <td>18.97</td>\n",
              "    </tr>\n",
              "  </tbody>\n",
              "</table>\n",
              "</div>"
            ],
            "text/plain": [
              "                                 person  transaction_time  spend\n",
              "12654  02c083884c7d45b39cc68e1314fec56c                 0   0.83\n",
              "12657  9fa9ae8f57894cc9a3b8a9bbe0fc1b2f                 0  34.56\n",
              "12659  54890f68699049c2a04d415abc25e717                 0  13.23\n",
              "12670  b2f1cd155b864803ad8334cdf13c4bd2                 0  19.51\n",
              "12671  fe97aa22dd3e48c8b143116a8403dd52                 0  18.97"
            ]
          },
          "metadata": {
            "tags": []
          },
          "execution_count": 91
        }
      ]
    },
    {
      "cell_type": "code",
      "metadata": {
        "id": "E81AWLTZjeUF",
        "colab": {
          "base_uri": "https://localhost:8080/"
        },
        "outputId": "4f6da826-1025-4ecc-877d-e56b5a1175d2"
      },
      "source": [
        "len(uninflunced_trans)"
      ],
      "execution_count": 92,
      "outputs": [
        {
          "output_type": "execute_result",
          "data": {
            "text/plain": [
              "106098"
            ]
          },
          "metadata": {
            "tags": []
          },
          "execution_count": 92
        }
      ]
    },
    {
      "cell_type": "code",
      "metadata": {
        "id": "OA8AESRejeUG"
      },
      "source": [
        "def user_transactions(profile, transactions):\n",
        "    \"\"\"\n",
        "    this creates useful information of individual users transactions\n",
        "    \"\"\"\n",
        "    # list of consumers in the transaction data\n",
        "    consumers = transactions.groupby('person').sum().index\n",
        "\n",
        "    # calculate the total transaction values for a consumer\n",
        "    consumer_spend = transactions.groupby('person')['spend'].sum().values\n",
        "\n",
        "    # calculate the number of transactions per consumer\n",
        "    consumer_trans = transactions.groupby('person')['spend'].count().values\n",
        "\n",
        "    # create a dataframe with spend info per consumer\n",
        "    consumer_data = pd.DataFrame(consumer_trans, index=consumers, columns=['total transactions'])\n",
        "\n",
        "    # add the total transaction column\n",
        "    consumer_data['total spend'] = consumer_spend \n",
        "    \n",
        "    # average spend per transaction    \n",
        "    consumer_data['spend per trans'] = consumer_data['total spend']/consumer_data['total transactions']\n",
        "    \n",
        "    # average spend per day\n",
        "    consumer_data['spend per day'] = consumer_data['total spend']/30\n",
        "    \n",
        "    # combine profile and transaction data\n",
        "    consumer_profile = profile.merge(consumer_data, on=['person']).fillna(0)\n",
        "    \n",
        "    # I will take the last date the final day data has been collected\n",
        "    final_date = consumer_profile['member joined'].max()\n",
        "    \n",
        "    # membership length in weeks\n",
        "    consumer_profile['membership length'] = [round((final_date - x).days / 7,0) for x in consumer_profile['member joined']]\n",
        "\n",
        "    return consumer_profile"
      ],
      "execution_count": 93,
      "outputs": []
    },
    {
      "cell_type": "code",
      "metadata": {
        "id": "hno_UsMzjeUH",
        "colab": {
          "base_uri": "https://localhost:8080/",
          "height": 314
        },
        "outputId": "7f71e6f6-ce2a-4d36-f259-2a1016331a66"
      },
      "source": [
        "consumer_profiles = user_transactions(clean_prof_df, uninflunced_trans)\n",
        "consumer_profiles.head()"
      ],
      "execution_count": 94,
      "outputs": [
        {
          "output_type": "execute_result",
          "data": {
            "text/html": [
              "<div>\n",
              "<style scoped>\n",
              "    .dataframe tbody tr th:only-of-type {\n",
              "        vertical-align: middle;\n",
              "    }\n",
              "\n",
              "    .dataframe tbody tr th {\n",
              "        vertical-align: top;\n",
              "    }\n",
              "\n",
              "    .dataframe thead th {\n",
              "        text-align: right;\n",
              "    }\n",
              "</style>\n",
              "<table border=\"1\" class=\"dataframe\">\n",
              "  <thead>\n",
              "    <tr style=\"text-align: right;\">\n",
              "      <th></th>\n",
              "      <th>female</th>\n",
              "      <th>male</th>\n",
              "      <th>other</th>\n",
              "      <th>unknown gender</th>\n",
              "      <th>age</th>\n",
              "      <th>person</th>\n",
              "      <th>member joined</th>\n",
              "      <th>income</th>\n",
              "      <th>total transactions</th>\n",
              "      <th>total spend</th>\n",
              "      <th>spend per trans</th>\n",
              "      <th>spend per day</th>\n",
              "      <th>membership length</th>\n",
              "    </tr>\n",
              "  </thead>\n",
              "  <tbody>\n",
              "    <tr>\n",
              "      <th>0</th>\n",
              "      <td>0</td>\n",
              "      <td>0</td>\n",
              "      <td>0</td>\n",
              "      <td>1</td>\n",
              "      <td>0</td>\n",
              "      <td>68be06ca386d4c31939f3a4f0e3dd783</td>\n",
              "      <td>2017-02-12</td>\n",
              "      <td>0.0</td>\n",
              "      <td>9</td>\n",
              "      <td>20.40</td>\n",
              "      <td>2.266667</td>\n",
              "      <td>0.680000</td>\n",
              "      <td>76.0</td>\n",
              "    </tr>\n",
              "    <tr>\n",
              "      <th>1</th>\n",
              "      <td>1</td>\n",
              "      <td>0</td>\n",
              "      <td>0</td>\n",
              "      <td>0</td>\n",
              "      <td>55</td>\n",
              "      <td>0610b486422d4921ae7d2bf64640c50b</td>\n",
              "      <td>2017-07-15</td>\n",
              "      <td>112000.0</td>\n",
              "      <td>3</td>\n",
              "      <td>77.01</td>\n",
              "      <td>25.670000</td>\n",
              "      <td>2.567000</td>\n",
              "      <td>54.0</td>\n",
              "    </tr>\n",
              "    <tr>\n",
              "      <th>2</th>\n",
              "      <td>0</td>\n",
              "      <td>0</td>\n",
              "      <td>0</td>\n",
              "      <td>1</td>\n",
              "      <td>0</td>\n",
              "      <td>38fe809add3b4fcf9315a9694bb96ff5</td>\n",
              "      <td>2018-07-12</td>\n",
              "      <td>0.0</td>\n",
              "      <td>5</td>\n",
              "      <td>10.21</td>\n",
              "      <td>2.042000</td>\n",
              "      <td>0.340333</td>\n",
              "      <td>2.0</td>\n",
              "    </tr>\n",
              "    <tr>\n",
              "      <th>3</th>\n",
              "      <td>1</td>\n",
              "      <td>0</td>\n",
              "      <td>0</td>\n",
              "      <td>0</td>\n",
              "      <td>75</td>\n",
              "      <td>78afa995795e4d85b5d9ceeca43f5fef</td>\n",
              "      <td>2017-05-09</td>\n",
              "      <td>100000.0</td>\n",
              "      <td>4</td>\n",
              "      <td>89.99</td>\n",
              "      <td>22.497500</td>\n",
              "      <td>2.999667</td>\n",
              "      <td>63.0</td>\n",
              "    </tr>\n",
              "    <tr>\n",
              "      <th>4</th>\n",
              "      <td>0</td>\n",
              "      <td>0</td>\n",
              "      <td>0</td>\n",
              "      <td>1</td>\n",
              "      <td>0</td>\n",
              "      <td>a03223e636434f42ac4c3df47e8bac43</td>\n",
              "      <td>2017-08-04</td>\n",
              "      <td>0.0</td>\n",
              "      <td>3</td>\n",
              "      <td>4.65</td>\n",
              "      <td>1.550000</td>\n",
              "      <td>0.155000</td>\n",
              "      <td>51.0</td>\n",
              "    </tr>\n",
              "  </tbody>\n",
              "</table>\n",
              "</div>"
            ],
            "text/plain": [
              "   female  male  other  ...  spend per trans  spend per day membership length\n",
              "0       0     0      0  ...         2.266667       0.680000              76.0\n",
              "1       1     0      0  ...        25.670000       2.567000              54.0\n",
              "2       0     0      0  ...         2.042000       0.340333               2.0\n",
              "3       1     0      0  ...        22.497500       2.999667              63.0\n",
              "4       0     0      0  ...         1.550000       0.155000              51.0\n",
              "\n",
              "[5 rows x 13 columns]"
            ]
          },
          "metadata": {
            "tags": []
          },
          "execution_count": 94
        }
      ]
    },
    {
      "cell_type": "code",
      "metadata": {
        "code_folding": [],
        "id": "LaGJH9mVjeUJ"
      },
      "source": [
        "def spend_per_day(clean_trans_df, clean_port_df):\n",
        "    \"\"\"\n",
        "    this creates the spend per day by person which will be used for the regression analysis\n",
        "    \"\"\"\n",
        "    # all offer affected transactions\n",
        "    inf_discount = influenced_discount(clean_trans_df, clean_port_df)\n",
        "    inf_bogo = influenced_bogo(clean_trans_df, clean_port_df)\n",
        "    inf_informational = influenced_informational(clean_trans_df, clean_port_df)\n",
        "\n",
        "    # combine all the influenced transcations    \n",
        "    inf_trans = inf_informational.append(inf_discount.append(inf_bogo))\n",
        "\n",
        "    # keep only the columns needed\n",
        "    inf_trans = inf_trans[['person', 'transaction_time', 'spend', 'id_offer']]\n",
        "\n",
        "    # creates dummies for each type of offer that was avalible\n",
        "    inf_off = pd.get_dummies(inf_trans['id_offer'])\n",
        "\n",
        "    # concates the offers with the transactions\n",
        "    inf_trans = pd.concat([inf_trans, inf_off], axis=1).drop(columns=['id_offer'])\n",
        "\n",
        "    # changes the transaction time to a day\n",
        "    inf_trans['transaction_time'] = np.ceil(inf_trans['transaction_time']/24)\n",
        "\n",
        "    # groupby the person and transaction_time \n",
        "    influenced = inf_trans.groupby(['person','transaction_time']).sum()\n",
        "    \n",
        "    # unstack and restack in index to fill days with zeros   \n",
        "    influenced = influenced.unstack().fillna(0).stack()\n",
        "    \n",
        "    # create the same file for all other transactions to get spend   \n",
        "    trans_up = transactions(clean_trans_df)\n",
        "\n",
        "    # changes the transaction time to a day\n",
        "    trans_up['transaction_time'] = np.ceil(trans_up['transaction_time']/24)\n",
        "\n",
        "    # group all of the transaction\n",
        "    trans_up = trans_up.groupby(['person','transaction_time']).sum()\n",
        "    \n",
        "    # fill any empty days with zeros \n",
        "    trans_up = trans_up.unstack().fillna(0).stack()\n",
        "    \n",
        "    # megre the files to have spend by day and if they were influenced by any offers\n",
        "    spend_per_day = trans_up.merge(influenced, right_index=True, left_index=True) \n",
        "    \n",
        "    return spend_per_day"
      ],
      "execution_count": 95,
      "outputs": []
    },
    {
      "cell_type": "code",
      "metadata": {
        "id": "08n_H8_DjeUK"
      },
      "source": [
        "# creates the number of times an offer influenced a trasaction per day\n",
        "spd = spend_per_day(clean_trans_df, clean_port_df)"
      ],
      "execution_count": 96,
      "outputs": []
    },
    {
      "cell_type": "code",
      "metadata": {
        "colab": {
          "base_uri": "https://localhost:8080/",
          "height": 247
        },
        "id": "9JfjUXiGkjmc",
        "outputId": "c7361f29-66e1-43d2-d694-1dc6108c3cba"
      },
      "source": [
        "spd.head()\n"
      ],
      "execution_count": 97,
      "outputs": [
        {
          "output_type": "execute_result",
          "data": {
            "text/html": [
              "<div>\n",
              "<style scoped>\n",
              "    .dataframe tbody tr th:only-of-type {\n",
              "        vertical-align: middle;\n",
              "    }\n",
              "\n",
              "    .dataframe tbody tr th {\n",
              "        vertical-align: top;\n",
              "    }\n",
              "\n",
              "    .dataframe thead th {\n",
              "        text-align: right;\n",
              "    }\n",
              "</style>\n",
              "<table border=\"1\" class=\"dataframe\">\n",
              "  <thead>\n",
              "    <tr style=\"text-align: right;\">\n",
              "      <th></th>\n",
              "      <th></th>\n",
              "      <th>spend</th>\n",
              "      <th>0b1e1539f2cc45b7b9fa7c272da2e1d7</th>\n",
              "      <th>2298d6c36e964ae4a3e7e9706d1fb8c2</th>\n",
              "      <th>2906b810c7d4411798c6938adc9daaa5</th>\n",
              "      <th>3f207df678b143eea3cee63160fa8bed</th>\n",
              "      <th>4d5c57ea9a6940dd891ad53e9dbe8da0</th>\n",
              "      <th>5a8bc65990b245e5a138643cd4eb9837</th>\n",
              "      <th>9b98b8c7a33c4b65b9aebfe6a799e6d9</th>\n",
              "      <th>ae264e3637204a6fb9bb56bc8210ddfd</th>\n",
              "      <th>f19421c1d4aa40978ebb69ca19b0e20d</th>\n",
              "      <th>fafdcd668e3743c1bb461111dcafc2a4</th>\n",
              "    </tr>\n",
              "    <tr>\n",
              "      <th>person</th>\n",
              "      <th>transaction_time</th>\n",
              "      <th></th>\n",
              "      <th></th>\n",
              "      <th></th>\n",
              "      <th></th>\n",
              "      <th></th>\n",
              "      <th></th>\n",
              "      <th></th>\n",
              "      <th></th>\n",
              "      <th></th>\n",
              "      <th></th>\n",
              "      <th></th>\n",
              "    </tr>\n",
              "  </thead>\n",
              "  <tbody>\n",
              "    <tr>\n",
              "      <th rowspan=\"5\" valign=\"top\">0009655768c64bdeb2e877511632db8f</th>\n",
              "      <th>1.0</th>\n",
              "      <td>0.0</td>\n",
              "      <td>0.0</td>\n",
              "      <td>0.0</td>\n",
              "      <td>0.0</td>\n",
              "      <td>0.0</td>\n",
              "      <td>0.0</td>\n",
              "      <td>0.0</td>\n",
              "      <td>0.0</td>\n",
              "      <td>0.0</td>\n",
              "      <td>0.0</td>\n",
              "      <td>0.0</td>\n",
              "    </tr>\n",
              "    <tr>\n",
              "      <th>2.0</th>\n",
              "      <td>0.0</td>\n",
              "      <td>0.0</td>\n",
              "      <td>0.0</td>\n",
              "      <td>0.0</td>\n",
              "      <td>0.0</td>\n",
              "      <td>0.0</td>\n",
              "      <td>0.0</td>\n",
              "      <td>0.0</td>\n",
              "      <td>0.0</td>\n",
              "      <td>0.0</td>\n",
              "      <td>0.0</td>\n",
              "    </tr>\n",
              "    <tr>\n",
              "      <th>3.0</th>\n",
              "      <td>0.0</td>\n",
              "      <td>0.0</td>\n",
              "      <td>0.0</td>\n",
              "      <td>0.0</td>\n",
              "      <td>0.0</td>\n",
              "      <td>0.0</td>\n",
              "      <td>0.0</td>\n",
              "      <td>0.0</td>\n",
              "      <td>0.0</td>\n",
              "      <td>0.0</td>\n",
              "      <td>0.0</td>\n",
              "    </tr>\n",
              "    <tr>\n",
              "      <th>4.0</th>\n",
              "      <td>0.0</td>\n",
              "      <td>0.0</td>\n",
              "      <td>0.0</td>\n",
              "      <td>0.0</td>\n",
              "      <td>0.0</td>\n",
              "      <td>0.0</td>\n",
              "      <td>0.0</td>\n",
              "      <td>0.0</td>\n",
              "      <td>0.0</td>\n",
              "      <td>0.0</td>\n",
              "      <td>0.0</td>\n",
              "    </tr>\n",
              "    <tr>\n",
              "      <th>5.0</th>\n",
              "      <td>0.0</td>\n",
              "      <td>0.0</td>\n",
              "      <td>0.0</td>\n",
              "      <td>0.0</td>\n",
              "      <td>0.0</td>\n",
              "      <td>0.0</td>\n",
              "      <td>0.0</td>\n",
              "      <td>0.0</td>\n",
              "      <td>0.0</td>\n",
              "      <td>0.0</td>\n",
              "      <td>0.0</td>\n",
              "    </tr>\n",
              "  </tbody>\n",
              "</table>\n",
              "</div>"
            ],
            "text/plain": [
              "                                                   spend  ...  fafdcd668e3743c1bb461111dcafc2a4\n",
              "person                           transaction_time         ...                                  \n",
              "0009655768c64bdeb2e877511632db8f 1.0                 0.0  ...                               0.0\n",
              "                                 2.0                 0.0  ...                               0.0\n",
              "                                 3.0                 0.0  ...                               0.0\n",
              "                                 4.0                 0.0  ...                               0.0\n",
              "                                 5.0                 0.0  ...                               0.0\n",
              "\n",
              "[5 rows x 11 columns]"
            ]
          },
          "metadata": {
            "tags": []
          },
          "execution_count": 97
        }
      ]
    },
    {
      "cell_type": "code",
      "metadata": {
        "id": "ISA2BVfcsjjp"
      },
      "source": [
        ""
      ],
      "execution_count": null,
      "outputs": []
    }
  ]
}